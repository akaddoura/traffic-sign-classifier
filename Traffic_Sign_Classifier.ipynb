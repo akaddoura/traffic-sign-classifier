{
 "cells": [
  {
   "cell_type": "markdown",
   "metadata": {},
   "source": [
    "## Project: Build a Traffic Sign Recognition Classifier"
   ]
  },
  {
   "cell_type": "markdown",
   "metadata": {},
   "source": [
    "### Importing libraries"
   ]
  },
  {
   "cell_type": "code",
   "execution_count": 1,
   "metadata": {},
   "outputs": [
    {
     "name": "stderr",
     "output_type": "stream",
     "text": [
      "Using TensorFlow backend.\n"
     ]
    }
   ],
   "source": [
    "from sklearn import preprocessing\n",
    "import pickle\n",
    "import numpy as np \n",
    "import matplotlib.pyplot as plt\n",
    "import pandas as pd\n",
    "import sys\n",
    "import tensorflow as tf\n",
    "import csv\n",
    "import glob\n",
    "import pickle\n",
    "import cv2\n",
    "\n",
    "import keras\n",
    "import tensorflow as tf\n",
    "from keras.layers import Input, Add, Dropout, Dense, Activation, ZeroPadding2D, BatchNormalization, Flatten, Conv2D, MaxPooling2D\n",
    "from keras.models import Model, load_model\n",
    "from keras.preprocessing import image\n",
    "from keras.callbacks import ModelCheckpoint, EarlyStopping\n",
    "from keras.utils import to_categorical\n",
    "from IPython.display import SVG\n",
    "from keras.utils.vis_utils import model_to_dot\n",
    "from keras.utils import plot_model\n",
    "from keras.initializers import glorot_uniform\n",
    "\n",
    "import keras.backend as K\n",
    "K.set_image_data_format('channels_last')\n",
    "K.set_learning_phase(1)\n",
    "\n",
    "np.set_printoptions(threshold=sys.maxsize)\n",
    "%matplotlib inline"
   ]
  },
  {
   "cell_type": "markdown",
   "metadata": {},
   "source": [
    "---\n",
    "## Step 0: Load The Data"
   ]
  },
  {
   "cell_type": "code",
   "execution_count": 2,
   "metadata": {},
   "outputs": [],
   "source": [
    "# Load pickled data\n",
    "training_file = \"data/train.p\"\n",
    "validation_file= \"data/valid.p\"\n",
    "testing_file = \"data/test.p\"\n",
    "signnames_file = \"signnames.csv\"\n",
    "\n",
    "with open(training_file, mode='rb') as f:\n",
    "    train = pickle.load(f)\n",
    "with open(validation_file, mode='rb') as f:\n",
    "    valid = pickle.load(f)\n",
    "with open(testing_file, mode='rb') as f:\n",
    "    test = pickle.load(f)\n",
    "with open(signnames_file, mode='r') as data:\n",
    "    reader = csv.reader(data)\n",
    "    next(reader)\n",
    "    signnames_dict = dict(reader)  # pull in each row as a key-value pair\n",
    "    \n",
    "X_train, y_train = train['features'], train['labels']\n",
    "X_valid, y_valid = valid['features'], valid['labels']\n",
    "X_test, y_test = test['features'], test['labels']"
   ]
  },
  {
   "cell_type": "code",
   "execution_count": 3,
   "metadata": {},
   "outputs": [],
   "source": [
    "# Assert that the datasets match. \n",
    "assert(X_train.shape[0] == y_train.shape[0]), \"No. of Images is not equals to number of labels\"\n",
    "assert(X_valid.shape[0] == y_valid.shape[0]), \"No. of Images is not equals to number of labels\"\n",
    "assert(X_test.shape[0] == y_test.shape[0]), \"No. of Images is not equals to number of labels\"\n",
    "\n",
    "assert(X_train.shape[1:] == (32,32,3)), \"The Dimesnsions of the images are not 32 x 32 x 3\"\n",
    "assert(X_valid.shape[1:] == (32,32,3)), \"The Dimesnsions of the images are not 32 x 32 x 3\"\n",
    "assert(X_test.shape[1:] == (32,32,3)), \"The Dimesnsions of the images are not 32 x 32 x 3\""
   ]
  },
  {
   "cell_type": "markdown",
   "metadata": {},
   "source": [
    "---\n",
    "\n",
    "## Dataset Summary & Exploration\n",
    "\n",
    "The pickled data is a dictionary with 4 key/value pairs:\n",
    "\n",
    "- `'features'` is a 4D array containing raw pixel data of the traffic sign images, (num examples, width, height, channels).\n",
    "- `'labels'` is a 1D array containing the label/class id of the traffic sign. The file `signnames.csv` contains id -> name mappings for each id.\n",
    "- `'sizes'` is a list containing tuples, (width, height) representing the original width and height the image.\n",
    "- `'coords'` is a list containing tuples, (x1, y1, x2, y2) representing coordinates of a bounding box around the sign in the image."
   ]
  },
  {
   "cell_type": "code",
   "execution_count": 4,
   "metadata": {},
   "outputs": [
    {
     "name": "stdout",
     "output_type": "stream",
     "text": [
      "Number of training examples = 34799\n",
      "Number of testing examples = 12630\n",
      "Image data shape = (32, 32, 3)\n",
      "Number of classes = 43\n"
     ]
    }
   ],
   "source": [
    "\n",
    "# Number of training examples\n",
    "n_train = y_train.shape[0]\n",
    "\n",
    "# Number of validation examples\n",
    "n_validation = y_valid.shape[0]\n",
    "\n",
    "# Number of testing examples.\n",
    "n_test = y_test.shape[0]\n",
    "\n",
    "# Image shape in the data set\n",
    "image_shape = (X_train.shape[1], X_train.shape[2], X_train.shape[3])\n",
    "\n",
    "# Unique classes in the data set\n",
    "n_classes = len(np.unique(y_train))\n",
    "\n",
    "print(\"Number of training examples =\", n_train)\n",
    "print(\"Number of testing examples =\", n_test)\n",
    "print(\"Image data shape =\", image_shape)\n",
    "print(\"Number of classes =\", n_classes)"
   ]
  },
  {
   "cell_type": "markdown",
   "metadata": {},
   "source": [
    "### Data Visualization"
   ]
  },
  {
   "cell_type": "code",
   "execution_count": 5,
   "metadata": {},
   "outputs": [],
   "source": [
    "def shuffle(batch, seed = 0):\n",
    "    m = batch.shape[0]\n",
    "    np.random.seed(seed)\n",
    "    permutation = list(np.random.permutation(m))\n",
    "    shuffled_batch = batch[permutation]\n",
    "    return shuffled_batch, permutation"
   ]
  },
  {
   "cell_type": "code",
   "execution_count": 6,
   "metadata": {},
   "outputs": [],
   "source": [
    "def shuffle_both(batch_1, batch_2, seed = 0):\n",
    "    m = batch_1.shape[0]\n",
    "    np.random.seed(seed)\n",
    "    permutation = list(np.random.permutation(m))\n",
    "    shuffled_batch_1 = batch_1[permutation]\n",
    "    shuffled_batch_2 = batch_2[permutation]\n",
    "    return shuffled_batch_1, shuffled_batch_2"
   ]
  },
  {
   "cell_type": "code",
   "execution_count": 7,
   "metadata": {},
   "outputs": [],
   "source": [
    "def create_random_mini_batch(batch, n, seed = 0):\n",
    "    np.random.seed(seed)\n",
    "    shuffled_batch, permutation = shuffle(batch, seed = seed)\n",
    "    m = shuffled_batch.shape[0]\n",
    "    ind = np.random.randint(m-n)\n",
    "    mini_batch = shuffled_batch[ind:ind+n]\n",
    "    indices = permutation[ind:ind+n]\n",
    "    return mini_batch, indices"
   ]
  },
  {
   "cell_type": "code",
   "execution_count": 8,
   "metadata": {},
   "outputs": [],
   "source": [
    "def display_images(images, labels, signnames_dict):\n",
    "    '''\n",
    "    This function will display images in a grid set by the sizes of c and r.\n",
    "    The number of rows and columns must be high enough to accomdate the\n",
    "    number of images \n",
    "    :param images: list of images to be shown in the grid\n",
    "    :param c: number of columns in the grid\n",
    "    :param r: number of rows in the grid\n",
    "    :return: displays images as per the plt.show() function\n",
    "    '''\n",
    "    # Visualize transformation\n",
    "    w = 14\n",
    "    h = 14\n",
    "    axes = []\n",
    "    fig = plt.figure(figsize=(w, h))\n",
    "    columns = 3\n",
    "    rows = len(images)//columns + 1\n",
    "    \n",
    "    for i in range(1, len(images) + 1):\n",
    "        img = images[i-1]\n",
    "        axes.append(fig.add_subplot(rows, columns, i))\n",
    "        subplot_title = signnames_dict[str(labels[i-1])]\n",
    "        axes[-1].set_title(subplot_title)\n",
    "        plt.imshow(img,  cmap = plt.cm.gray)\n",
    "    plt.show()"
   ]
  },
  {
   "cell_type": "code",
   "execution_count": 9,
   "metadata": {
    "scrolled": false
   },
   "outputs": [
    {
     "data": {
      "image/png": "[encoded data removed]",
      "text/plain": [
       "<matplotlib.figure.Figure at 0x7f7771fc2e10>"
      ]
     },
     "metadata": {
      "needs_background": "light"
     },
     "output_type": "display_data"
    }
   ],
   "source": [
    "# Display\n",
    "seed = np.random.randint(1000)\n",
    "\n",
    "display_number = 9\n",
    "mini_batch, indices = create_random_mini_batch(X_train, n = display_number, seed = seed)\n",
    "labels = list(y_train[indices])\n",
    "display_images(mini_batch, labels, signnames_dict)"
   ]
  },
  {
   "cell_type": "code",
   "execution_count": 10,
   "metadata": {},
   "outputs": [
    {
     "name": "stdout",
     "output_type": "stream",
     "text": [
      "[180, 1980, 2010, 1260, 1770, 1650, 360, 1290, 1260, 1320, 1800, 1170, 1890, 1920, 690, 540, 360, 990, 1080, 180, 300, 270, 330, 450, 240, 1350, 540, 210, 480, 240, 390, 690, 210, 599, 360, 1080, 330, 180, 1860, 270, 300, 210, 210]\n"
     ]
    },
    {
     "data": {
      "image/png": "[encoded data removed]",
      "text/plain": [
       "<matplotlib.figure.Figure at 0x7f7771cd4198>"
      ]
     },
     "metadata": {
      "needs_background": "light"
     },
     "output_type": "display_data"
    }
   ],
   "source": [
    "total_per_label = []\n",
    "for l in range(n_classes):\n",
    "    label = X_train[y_train == l]\n",
    "    total_per_label.append(len(label))\n",
    "\n",
    "print(total_per_label)\n",
    "plt.figure(figsize=(12, 4))\n",
    "plt.bar(range(0, n_classes), total_per_label)\n",
    "plt.title(\"Distribution of the train dataset\")\n",
    "plt.xlabel(\"Class number\")\n",
    "plt.ylabel(\"Number of images\")\n",
    "plt.show()"
   ]
  },
  {
   "cell_type": "markdown",
   "metadata": {},
   "source": [
    "Because the lighting conditions on the signs are uniform (some are dim while others are bright), we will use historgram equalization to normalize the pixel intensity distributions at the preprocessing stage."
   ]
  },
  {
   "cell_type": "markdown",
   "metadata": {},
   "source": [
    "----\n",
    "\n",
    "## Pre-processing"
   ]
  },
  {
   "cell_type": "markdown",
   "metadata": {},
   "source": [
    "### grayscale and normalization"
   ]
  },
  {
   "cell_type": "code",
   "execution_count": 11,
   "metadata": {},
   "outputs": [],
   "source": [
    "def grayscale(img):\n",
    "    gray = cv2.cvtColor(img, cv2.COLOR_BGR2GRAY)\n",
    "    return gray\n",
    "\n",
    "def equalize(img):\n",
    "    equal = cv2.equalizeHist(img)\n",
    "    return equal\n",
    "\n",
    "def preprocessing(img):\n",
    "    gray = grayscale(img)\n",
    "    #equal = equalize(gray)\n",
    "    norm = gray/255\n",
    "    return norm"
   ]
  },
  {
   "cell_type": "code",
   "execution_count": 12,
   "metadata": {},
   "outputs": [],
   "source": [
    "# setting random seed value and shuffling the dataset\n",
    "seed = np.random.randint(100000)\n",
    "X_train, y_train = shuffle_both(X_train, y_train, seed = seed)\n",
    "\n",
    "X_train = np.array(list(map(preprocessing, X_train)))\n",
    "X_valid = np.array(list(map(preprocessing, X_valid)))\n",
    "X_test = np.array(list(map(preprocessing, X_test)))\n",
    "\n",
    "# one-hot encoders for the labels\n",
    "y_train = to_categorical(y_train, 43)\n",
    "y_valid = to_categorical(y_valid, 43)\n",
    "y_test = to_categorical(y_test, 43)"
   ]
  },
  {
   "cell_type": "code",
   "execution_count": 13,
   "metadata": {},
   "outputs": [
    {
     "name": "stdout",
     "output_type": "stream",
     "text": [
      "number of training examples = 34799\n",
      "number of valid examples = 4410\n",
      "X_train shape: (34799, 32, 32)\n",
      "Y_train shape: (34799, 43)\n",
      "X_valid shape: (4410, 32, 32)\n",
      "Y_valid shape: (4410, 43)\n",
      "X_test shape: (12630, 32, 32)\n",
      "Y_test shape: (12630, 43)\n"
     ]
    }
   ],
   "source": [
    "print (\"number of training examples = \" + str(X_train.shape[0]))\n",
    "print (\"number of valid examples = \" + str(X_valid.shape[0]))\n",
    "print (\"X_train shape: \" + str(X_train.shape))\n",
    "print (\"Y_train shape: \" + str(y_train.shape))\n",
    "print (\"X_valid shape: \" + str(X_valid.shape))\n",
    "print (\"Y_valid shape: \" + str(y_valid.shape))\n",
    "print (\"X_test shape: \" + str(X_test.shape))\n",
    "print (\"Y_test shape: \" + str(y_test.shape))"
   ]
  },
  {
   "cell_type": "markdown",
   "metadata": {},
   "source": [
    "### Data Augmentation"
   ]
  },
  {
   "cell_type": "code",
   "execution_count": 14,
   "metadata": {},
   "outputs": [
    {
     "name": "stdout",
     "output_type": "stream",
     "text": [
      "(34799, 32, 32, 1)\n"
     ]
    }
   ],
   "source": [
    "from keras.preprocessing.image import ImageDataGenerator\n",
    "\n",
    "X_train = np.expand_dims(X_train, axis = -1)\n",
    "X_valid = np.expand_dims(X_valid, axis = -1)\n",
    "X_test = np.expand_dims(X_test, axis = -1)\n",
    "\n",
    "datagen = ImageDataGenerator(width_shift_range=0.1,\n",
    "                             height_shift_range=0.1,\n",
    "                            zoom_range=0.2,\n",
    "                            shear_range=0.1,\n",
    "                            rotation_range=10.)\n",
    "\n",
    "datagen.fit(X_train)\n",
    "print(X_train.shape)"
   ]
  },
  {
   "cell_type": "markdown",
   "metadata": {},
   "source": [
    "### Model Architecture"
   ]
  },
  {
   "cell_type": "code",
   "execution_count": 15,
   "metadata": {},
   "outputs": [],
   "source": [
    "def lenet(input_shape = (32, 32, 1), classes = 43, seed = 0):\n",
    "    \"\"\"\n",
    "    Implementation of the popular ResNet50 the following architecture:\n",
    "    CONV2D -> BATCHNORM -> RELU -> MAXPOOL -> CONVBLOCK -> IDBLOCK*2 -> CONVBLOCK -> IDBLOCK*3\n",
    "    -> CONVBLOCK -> IDBLOCK*5 -> CONVBLOCK -> IDBLOCK*2 -> AVGPOOL -> TOPLAYER\n",
    "\n",
    "    Arguments:\n",
    "    input_shape -- shape of the images of the dataset\n",
    "    classes -- integer, number of classes\n",
    "\n",
    "    Returns:\n",
    "    model -- a Model() instance in Keras\n",
    "    \"\"\"\n",
    "    X_input = Input(shape=input_shape)\n",
    "    \n",
    "    X = X_input\n",
    "    X = Conv2D(6, (5, 5), strides = (1, 1), name = 'conv1')(X)\n",
    "    X = BatchNormalization(axis = 3, name = 'bn_conv1')(X)\n",
    "    X = Activation('relu')(X)\n",
    "    X = MaxPooling2D((2,2), strides=(2,2))(X)\n",
    "    \n",
    "    X = Conv2D(16, (5, 5), strides = (1, 1), name = 'conv2')(X)\n",
    "    X = BatchNormalization(axis = 3, name = 'bn_conv2')(X)\n",
    "    X = Activation('relu')(X)\n",
    "    X = MaxPooling2D((2,2), strides=(2,2))(X)\n",
    "\n",
    "    X = Flatten()(X)\n",
    "    X = Dense(120, activation='relu', name='fc1')(X)\n",
    "    #X = Dropout(0.5)(X)\n",
    "    X = Dense(84, activation='relu', name='fc2')(X)\n",
    "    #X = Dropout(0.5)(X)\n",
    "    X = Dense(classes, activation='softmax', name='fc3')(X)\n",
    "\n",
    "    # create model\n",
    "    model = Model(inputs=X_input, outputs=X, name='LeNet-5')\n",
    "    \n",
    "    return model"
   ]
  },
  {
   "cell_type": "markdown",
   "metadata": {},
   "source": [
    "### Train, Validate and Test the Model"
   ]
  },
  {
   "cell_type": "markdown",
   "metadata": {},
   "source": [
    "A validation set can be used to assess how well the model is performing. A low accuracy on the training and validation\n",
    "sets imply underfitting. A high accuracy on the training set but low accuracy on the validation set implies overfitting."
   ]
  },
  {
   "cell_type": "code",
   "execution_count": 16,
   "metadata": {},
   "outputs": [],
   "source": [
    "seed = np.random.randint(1000)\n",
    "model = lenet(input_shape = (32, 32, 1), classes = 43, seed = seed)\n",
    "model.compile(optimizer='adam', loss='categorical_crossentropy', metrics=['accuracy'])"
   ]
  },
  {
   "cell_type": "markdown",
   "metadata": {},
   "source": [
    "creating callbacks to imrpove training process."
   ]
  },
  {
   "cell_type": "code",
   "execution_count": 17,
   "metadata": {},
   "outputs": [],
   "source": [
    "checkpoint = ModelCheckpoint(filepath=\"call_back_checkpoint\", \n",
    "                             monitor='val_loss', \n",
    "                             save_best_only=True)\n",
    "\n",
    "stopper = EarlyStopping(monitor='val_acc', \n",
    "                        min_delta=0.0003, \n",
    "                        patience=5)\n",
    "\n",
    "callbacks = [checkpoint]"
   ]
  },
  {
   "cell_type": "markdown",
   "metadata": {},
   "source": [
    "### Model Training"
   ]
  },
  {
   "cell_type": "code",
   "execution_count": 18,
   "metadata": {
    "scrolled": false
   },
   "outputs": [
    {
     "name": "stdout",
     "output_type": "stream",
     "text": [
      "Epoch 1/30\n",
      "2000/2000 [==============================] - 241s 121ms/step - loss: 1.2267 - acc: 0.6405 - val_loss: 0.7794 - val_acc: 0.7599\n",
      "Epoch 2/30\n",
      "2000/2000 [==============================] - 239s 119ms/step - loss: 0.5092 - acc: 0.8422 - val_loss: 0.6445 - val_acc: 0.8295\n",
      "Epoch 3/30\n",
      "2000/2000 [==============================] - 239s 120ms/step - loss: 0.3727 - acc: 0.8856 - val_loss: 0.4774 - val_acc: 0.8692\n",
      "Epoch 4/30\n",
      "2000/2000 [==============================] - 239s 119ms/step - loss: 0.3000 - acc: 0.9077 - val_loss: 0.5720 - val_acc: 0.8544\n",
      "Epoch 5/30\n",
      "2000/2000 [==============================] - 238s 119ms/step - loss: 0.2625 - acc: 0.9195 - val_loss: 0.5974 - val_acc: 0.8705\n",
      "Epoch 6/30\n",
      "2000/2000 [==============================] - 238s 119ms/step - loss: 0.2289 - acc: 0.9289 - val_loss: 0.6472 - val_acc: 0.8531\n",
      "Epoch 7/30\n",
      "2000/2000 [==============================] - 239s 120ms/step - loss: 0.2088 - acc: 0.9368 - val_loss: 0.6014 - val_acc: 0.8610\n",
      "Epoch 8/30\n",
      "2000/2000 [==============================] - 239s 119ms/step - loss: 0.1988 - acc: 0.9388 - val_loss: 0.4438 - val_acc: 0.8921\n",
      "Epoch 9/30\n",
      "2000/2000 [==============================] - 239s 120ms/step - loss: 0.1798 - acc: 0.9451 - val_loss: 0.4159 - val_acc: 0.9048\n",
      "Epoch 10/30\n",
      "2000/2000 [==============================] - 238s 119ms/step - loss: 0.1746 - acc: 0.9466 - val_loss: 0.4717 - val_acc: 0.8914\n",
      "Epoch 11/30\n",
      "2000/2000 [==============================] - 238s 119ms/step - loss: 0.1606 - acc: 0.9505 - val_loss: 0.4952 - val_acc: 0.8923\n",
      "Epoch 12/30\n",
      "2000/2000 [==============================] - 237s 119ms/step - loss: 0.1590 - acc: 0.9519 - val_loss: 0.5828 - val_acc: 0.8751\n",
      "Epoch 13/30\n",
      "2000/2000 [==============================] - 238s 119ms/step - loss: 0.1448 - acc: 0.9558 - val_loss: 0.4484 - val_acc: 0.9045\n",
      "Epoch 14/30\n",
      "2000/2000 [==============================] - 237s 119ms/step - loss: 0.1404 - acc: 0.9566 - val_loss: 0.4926 - val_acc: 0.8998\n",
      "Epoch 15/30\n",
      "2000/2000 [==============================] - 239s 119ms/step - loss: 0.1345 - acc: 0.9584 - val_loss: 0.5207 - val_acc: 0.9063\n",
      "Epoch 16/30\n",
      "2000/2000 [==============================] - 238s 119ms/step - loss: 0.1319 - acc: 0.9598 - val_loss: 0.5382 - val_acc: 0.9009\n",
      "Epoch 17/30\n",
      "2000/2000 [==============================] - 238s 119ms/step - loss: 0.1252 - acc: 0.9617 - val_loss: 0.4495 - val_acc: 0.9066\n",
      "Epoch 18/30\n",
      "2000/2000 [==============================] - 238s 119ms/step - loss: 0.1226 - acc: 0.9632 - val_loss: 0.5551 - val_acc: 0.8909\n",
      "Epoch 19/30\n",
      "2000/2000 [==============================] - 238s 119ms/step - loss: 0.1236 - acc: 0.9627 - val_loss: 0.4214 - val_acc: 0.9179\n",
      "Epoch 20/30\n",
      "2000/2000 [==============================] - 237s 119ms/step - loss: 0.1132 - acc: 0.9649 - val_loss: 0.4407 - val_acc: 0.9181\n",
      "Epoch 21/30\n",
      "2000/2000 [==============================] - 237s 119ms/step - loss: 0.1139 - acc: 0.9661 - val_loss: 0.5417 - val_acc: 0.8982\n",
      "Epoch 22/30\n",
      "2000/2000 [==============================] - 238s 119ms/step - loss: 0.1084 - acc: 0.9672 - val_loss: 0.5361 - val_acc: 0.9077\n",
      "Epoch 23/30\n",
      "2000/2000 [==============================] - 238s 119ms/step - loss: 0.1090 - acc: 0.9671 - val_loss: 0.4052 - val_acc: 0.9209\n",
      "Epoch 24/30\n",
      "2000/2000 [==============================] - 237s 119ms/step - loss: 0.1061 - acc: 0.9674 - val_loss: 0.4651 - val_acc: 0.9188\n",
      "Epoch 25/30\n",
      "2000/2000 [==============================] - 238s 119ms/step - loss: 0.1036 - acc: 0.9690 - val_loss: 0.4859 - val_acc: 0.9088\n",
      "Epoch 26/30\n",
      "2000/2000 [==============================] - 238s 119ms/step - loss: 0.0992 - acc: 0.9696 - val_loss: 0.4914 - val_acc: 0.9088\n",
      "Epoch 27/30\n",
      "2000/2000 [==============================] - 238s 119ms/step - loss: 0.1006 - acc: 0.9695 - val_loss: 0.5313 - val_acc: 0.9070\n",
      "Epoch 28/30\n",
      "2000/2000 [==============================] - 237s 119ms/step - loss: 0.0970 - acc: 0.9699 - val_loss: 0.4781 - val_acc: 0.9086\n",
      "Epoch 29/30\n",
      "2000/2000 [==============================] - 236s 118ms/step - loss: 0.0955 - acc: 0.9705 - val_loss: 0.5196 - val_acc: 0.9125\n",
      "Epoch 30/30\n",
      "2000/2000 [==============================] - 236s 118ms/step - loss: 0.0990 - acc: 0.9701 - val_loss: 0.4549 - val_acc: 0.9147\n"
     ]
    }
   ],
   "source": [
    "#model.fit(X_train, y_train, epochs = 30, batch_size = 128, callbacks=callbacks)\n",
    "#history = model.fit(X_train, y_train, epochs = 30, validation_data = (X_valid, y_valid), batch_size = 64)\n",
    "history = model.fit_generator(datagen.flow(X_train, y_train, batch_size=50),\n",
    "                            steps_per_epoch=2000,\n",
    "                            epochs=30,\n",
    "                            validation_data=(X_valid, y_valid), shuffle = 1, callbacks = callbacks)"
   ]
  },
  {
   "cell_type": "markdown",
   "metadata": {},
   "source": [
    "If a model was previously saved, the below cell is used to load it again to skip training. "
   ]
  },
  {
   "cell_type": "code",
   "execution_count": null,
   "metadata": {},
   "outputs": [],
   "source": [
    "model =  keras.models.load_model('model_lenet-5')"
   ]
  },
  {
   "cell_type": "code",
   "execution_count": 19,
   "metadata": {
    "scrolled": true
   },
   "outputs": [
    {
     "name": "stdout",
     "output_type": "stream",
     "text": [
      "4410/4410 [==============================] - 4s 879us/step\n",
      "Loss = 0.42759499674\n",
      "Test Accuracy = 92.154195014\n"
     ]
    }
   ],
   "source": [
    "preds = model.evaluate(X_valid, y_valid)\n",
    "print (\"Loss = \" + str(preds[0]))\n",
    "print (\"Test Accuracy = \" + str(preds[1]*100))"
   ]
  },
  {
   "cell_type": "code",
   "execution_count": 20,
   "metadata": {},
   "outputs": [
    {
     "name": "stdout",
     "output_type": "stream",
     "text": [
      "12630/12630 [==============================] - 11s 875us/step\n",
      "Loss = 0.267134781301\n",
      "Test Accuracy = 95.0277117992\n"
     ]
    }
   ],
   "source": [
    "preds = model.evaluate(X_test, y_test)\n",
    "print (\"Loss = \" + str(preds[0]))\n",
    "print (\"Test Accuracy = \" + str(preds[1]*100))"
   ]
  },
  {
   "cell_type": "code",
   "execution_count": 21,
   "metadata": {},
   "outputs": [],
   "source": [
    "model.save(\"model_lenet-5\")"
   ]
  },
  {
   "cell_type": "code",
   "execution_count": 22,
   "metadata": {},
   "outputs": [
    {
     "name": "stdout",
     "output_type": "stream",
     "text": [
      "_________________________________________________________________\n",
      "Layer (type)                 Output Shape              Param #   \n",
      "=================================================================\n",
      "input_1 (InputLayer)         (None, 32, 32, 1)         0         \n",
      "_________________________________________________________________\n",
      "conv1 (Conv2D)               (None, 28, 28, 6)         156       \n",
      "_________________________________________________________________\n",
      "bn_conv1 (BatchNormalization (None, 28, 28, 6)         24        \n",
      "_________________________________________________________________\n",
      "activation_1 (Activation)    (None, 28, 28, 6)         0         \n",
      "_________________________________________________________________\n",
      "max_pooling2d_1 (MaxPooling2 (None, 14, 14, 6)         0         \n",
      "_________________________________________________________________\n",
      "conv2 (Conv2D)               (None, 10, 10, 16)        2416      \n",
      "_________________________________________________________________\n",
      "bn_conv2 (BatchNormalization (None, 10, 10, 16)        64        \n",
      "_________________________________________________________________\n",
      "activation_2 (Activation)    (None, 10, 10, 16)        0         \n",
      "_________________________________________________________________\n",
      "max_pooling2d_2 (MaxPooling2 (None, 5, 5, 16)          0         \n",
      "_________________________________________________________________\n",
      "flatten_1 (Flatten)          (None, 400)               0         \n",
      "_________________________________________________________________\n",
      "fc1 (Dense)                  (None, 120)               48120     \n",
      "_________________________________________________________________\n",
      "fc2 (Dense)                  (None, 84)                10164     \n",
      "_________________________________________________________________\n",
      "fc3 (Dense)                  (None, 43)                3655      \n",
      "=================================================================\n",
      "Total params: 64,599\n",
      "Trainable params: 64,555\n",
      "Non-trainable params: 44\n",
      "_________________________________________________________________\n"
     ]
    }
   ],
   "source": [
    "model_lenet =  keras.models.load_model('model_lenet-5')\n",
    "model_lenet.summary()"
   ]
  },
  {
   "cell_type": "code",
   "execution_count": 23,
   "metadata": {},
   "outputs": [
    {
     "data": {
      "image/svg+xml": [
       "<svg height=\"921pt\" viewBox=\"0.00 0.00 262.00 921.00\" width=\"262pt\" xmlns=\"http://www.w3.org/2000/svg\" xmlns:xlink=\"http://www.w3.org/1999/xlink\">\n",
       "<g class=\"graph\" id=\"graph0\" transform=\"scale(1 1) rotate(0) translate(4 917)\">\n",
       "<title>G</title>\n",
       "<polygon fill=\"white\" points=\"-4,4 -4,-917 258,-917 258,4 -4,4\" stroke=\"none\"/>\n",
       "<!-- 140150988966320 -->\n",
       "<g class=\"node\" id=\"node1\"><title>140150988966320</title>\n",
       "<polygon fill=\"none\" points=\"47,-876.5 47,-912.5 207,-912.5 207,-876.5 47,-876.5\" stroke=\"black\"/>\n",
       "<text font-family=\"Times,serif\" font-size=\"14.00\" text-anchor=\"middle\" x=\"127\" y=\"-890.8\">input_1: InputLayer</text>\n",
       "</g>\n",
       "<!-- 140150988966432 -->\n",
       "<g class=\"node\" id=\"node2\"><title>140150988966432</title>\n",
       "<polygon fill=\"none\" points=\"64.5,-803.5 64.5,-839.5 189.5,-839.5 189.5,-803.5 64.5,-803.5\" stroke=\"black\"/>\n",
       "<text font-family=\"Times,serif\" font-size=\"14.00\" text-anchor=\"middle\" x=\"127\" y=\"-817.8\">conv1: Conv2D</text>\n",
       "</g>\n",
       "<!-- 140150988966320&#45;&gt;140150988966432 -->\n",
       "<g class=\"edge\" id=\"edge1\"><title>140150988966320-&gt;140150988966432</title>\n",
       "<path d=\"M127,-876.313C127,-868.289 127,-858.547 127,-849.569\" fill=\"none\" stroke=\"black\"/>\n",
       "<polygon fill=\"black\" points=\"130.5,-849.529 127,-839.529 123.5,-849.529 130.5,-849.529\" stroke=\"black\"/>\n",
       "</g>\n",
       "<!-- 140150988966936 -->\n",
       "<g class=\"node\" id=\"node3\"><title>140150988966936</title>\n",
       "<polygon fill=\"none\" points=\"8,-730.5 8,-766.5 246,-766.5 246,-730.5 8,-730.5\" stroke=\"black\"/>\n",
       "<text font-family=\"Times,serif\" font-size=\"14.00\" text-anchor=\"middle\" x=\"127\" y=\"-744.8\">bn_conv1: BatchNormalization</text>\n",
       "</g>\n",
       "<!-- 140150988966432&#45;&gt;140150988966936 -->\n",
       "<g class=\"edge\" id=\"edge2\"><title>140150988966432-&gt;140150988966936</title>\n",
       "<path d=\"M127,-803.313C127,-795.289 127,-785.547 127,-776.569\" fill=\"none\" stroke=\"black\"/>\n",
       "<polygon fill=\"black\" points=\"130.5,-776.529 127,-766.529 123.5,-776.529 130.5,-776.529\" stroke=\"black\"/>\n",
       "</g>\n",
       "<!-- 140150988967216 -->\n",
       "<g class=\"node\" id=\"node4\"><title>140150988967216</title>\n",
       "<polygon fill=\"none\" points=\"33.5,-657.5 33.5,-693.5 220.5,-693.5 220.5,-657.5 33.5,-657.5\" stroke=\"black\"/>\n",
       "<text font-family=\"Times,serif\" font-size=\"14.00\" text-anchor=\"middle\" x=\"127\" y=\"-671.8\">activation_1: Activation</text>\n",
       "</g>\n",
       "<!-- 140150988966936&#45;&gt;140150988967216 -->\n",
       "<g class=\"edge\" id=\"edge3\"><title>140150988966936-&gt;140150988967216</title>\n",
       "<path d=\"M127,-730.313C127,-722.289 127,-712.547 127,-703.569\" fill=\"none\" stroke=\"black\"/>\n",
       "<polygon fill=\"black\" points=\"130.5,-703.529 127,-693.529 123.5,-703.529 130.5,-703.529\" stroke=\"black\"/>\n",
       "</g>\n",
       "<!-- 140150988967664 -->\n",
       "<g class=\"node\" id=\"node5\"><title>140150988967664</title>\n",
       "<polygon fill=\"none\" points=\"0,-584.5 0,-620.5 254,-620.5 254,-584.5 0,-584.5\" stroke=\"black\"/>\n",
       "<text font-family=\"Times,serif\" font-size=\"14.00\" text-anchor=\"middle\" x=\"127\" y=\"-598.8\">max_pooling2d_1: MaxPooling2D</text>\n",
       "</g>\n",
       "<!-- 140150988967216&#45;&gt;140150988967664 -->\n",
       "<g class=\"edge\" id=\"edge4\"><title>140150988967216-&gt;140150988967664</title>\n",
       "<path d=\"M127,-657.313C127,-649.289 127,-639.547 127,-630.569\" fill=\"none\" stroke=\"black\"/>\n",
       "<polygon fill=\"black\" points=\"130.5,-630.529 127,-620.529 123.5,-630.529 130.5,-630.529\" stroke=\"black\"/>\n",
       "</g>\n",
       "<!-- 140150988967720 -->\n",
       "<g class=\"node\" id=\"node6\"><title>140150988967720</title>\n",
       "<polygon fill=\"none\" points=\"64.5,-511.5 64.5,-547.5 189.5,-547.5 189.5,-511.5 64.5,-511.5\" stroke=\"black\"/>\n",
       "<text font-family=\"Times,serif\" font-size=\"14.00\" text-anchor=\"middle\" x=\"127\" y=\"-525.8\">conv2: Conv2D</text>\n",
       "</g>\n",
       "<!-- 140150988967664&#45;&gt;140150988967720 -->\n",
       "<g class=\"edge\" id=\"edge5\"><title>140150988967664-&gt;140150988967720</title>\n",
       "<path d=\"M127,-584.313C127,-576.289 127,-566.547 127,-557.569\" fill=\"none\" stroke=\"black\"/>\n",
       "<polygon fill=\"black\" points=\"130.5,-557.529 127,-547.529 123.5,-557.529 130.5,-557.529\" stroke=\"black\"/>\n",
       "</g>\n",
       "<!-- 140150852514144 -->\n",
       "<g class=\"node\" id=\"node7\"><title>140150852514144</title>\n",
       "<polygon fill=\"none\" points=\"8,-438.5 8,-474.5 246,-474.5 246,-438.5 8,-438.5\" stroke=\"black\"/>\n",
       "<text font-family=\"Times,serif\" font-size=\"14.00\" text-anchor=\"middle\" x=\"127\" y=\"-452.8\">bn_conv2: BatchNormalization</text>\n",
       "</g>\n",
       "<!-- 140150988967720&#45;&gt;140150852514144 -->\n",
       "<g class=\"edge\" id=\"edge6\"><title>140150988967720-&gt;140150852514144</title>\n",
       "<path d=\"M127,-511.313C127,-503.289 127,-493.547 127,-484.569\" fill=\"none\" stroke=\"black\"/>\n",
       "<polygon fill=\"black\" points=\"130.5,-484.529 127,-474.529 123.5,-484.529 130.5,-484.529\" stroke=\"black\"/>\n",
       "</g>\n",
       "<!-- 140150852514480 -->\n",
       "<g class=\"node\" id=\"node8\"><title>140150852514480</title>\n",
       "<polygon fill=\"none\" points=\"33.5,-365.5 33.5,-401.5 220.5,-401.5 220.5,-365.5 33.5,-365.5\" stroke=\"black\"/>\n",
       "<text font-family=\"Times,serif\" font-size=\"14.00\" text-anchor=\"middle\" x=\"127\" y=\"-379.8\">activation_2: Activation</text>\n",
       "</g>\n",
       "<!-- 140150852514144&#45;&gt;140150852514480 -->\n",
       "<g class=\"edge\" id=\"edge7\"><title>140150852514144-&gt;140150852514480</title>\n",
       "<path d=\"M127,-438.313C127,-430.289 127,-420.547 127,-411.569\" fill=\"none\" stroke=\"black\"/>\n",
       "<polygon fill=\"black\" points=\"130.5,-411.529 127,-401.529 123.5,-411.529 130.5,-411.529\" stroke=\"black\"/>\n",
       "</g>\n",
       "<!-- 140150852514536 -->\n",
       "<g class=\"node\" id=\"node9\"><title>140150852514536</title>\n",
       "<polygon fill=\"none\" points=\"0,-292.5 0,-328.5 254,-328.5 254,-292.5 0,-292.5\" stroke=\"black\"/>\n",
       "<text font-family=\"Times,serif\" font-size=\"14.00\" text-anchor=\"middle\" x=\"127\" y=\"-306.8\">max_pooling2d_2: MaxPooling2D</text>\n",
       "</g>\n",
       "<!-- 140150852514480&#45;&gt;140150852514536 -->\n",
       "<g class=\"edge\" id=\"edge8\"><title>140150852514480-&gt;140150852514536</title>\n",
       "<path d=\"M127,-365.313C127,-357.289 127,-347.547 127,-338.569\" fill=\"none\" stroke=\"black\"/>\n",
       "<polygon fill=\"black\" points=\"130.5,-338.529 127,-328.529 123.5,-338.529 130.5,-338.529\" stroke=\"black\"/>\n",
       "</g>\n",
       "<!-- 140150852514704 -->\n",
       "<g class=\"node\" id=\"node10\"><title>140150852514704</title>\n",
       "<polygon fill=\"none\" points=\"57,-219.5 57,-255.5 197,-255.5 197,-219.5 57,-219.5\" stroke=\"black\"/>\n",
       "<text font-family=\"Times,serif\" font-size=\"14.00\" text-anchor=\"middle\" x=\"127\" y=\"-233.8\">flatten_1: Flatten</text>\n",
       "</g>\n",
       "<!-- 140150852514536&#45;&gt;140150852514704 -->\n",
       "<g class=\"edge\" id=\"edge9\"><title>140150852514536-&gt;140150852514704</title>\n",
       "<path d=\"M127,-292.313C127,-284.289 127,-274.547 127,-265.569\" fill=\"none\" stroke=\"black\"/>\n",
       "<polygon fill=\"black\" points=\"130.5,-265.529 127,-255.529 123.5,-265.529 130.5,-265.529\" stroke=\"black\"/>\n",
       "</g>\n",
       "<!-- 140150852514816 -->\n",
       "<g class=\"node\" id=\"node11\"><title>140150852514816</title>\n",
       "<polygon fill=\"none\" points=\"81,-146.5 81,-182.5 173,-182.5 173,-146.5 81,-146.5\" stroke=\"black\"/>\n",
       "<text font-family=\"Times,serif\" font-size=\"14.00\" text-anchor=\"middle\" x=\"127\" y=\"-160.8\">fc1: Dense</text>\n",
       "</g>\n",
       "<!-- 140150852514704&#45;&gt;140150852514816 -->\n",
       "<g class=\"edge\" id=\"edge10\"><title>140150852514704-&gt;140150852514816</title>\n",
       "<path d=\"M127,-219.313C127,-211.289 127,-201.547 127,-192.569\" fill=\"none\" stroke=\"black\"/>\n",
       "<polygon fill=\"black\" points=\"130.5,-192.529 127,-182.529 123.5,-192.529 130.5,-192.529\" stroke=\"black\"/>\n",
       "</g>\n",
       "<!-- 140150852515152 -->\n",
       "<g class=\"node\" id=\"node12\"><title>140150852515152</title>\n",
       "<polygon fill=\"none\" points=\"81,-73.5 81,-109.5 173,-109.5 173,-73.5 81,-73.5\" stroke=\"black\"/>\n",
       "<text font-family=\"Times,serif\" font-size=\"14.00\" text-anchor=\"middle\" x=\"127\" y=\"-87.8\">fc2: Dense</text>\n",
       "</g>\n",
       "<!-- 140150852514816&#45;&gt;140150852515152 -->\n",
       "<g class=\"edge\" id=\"edge11\"><title>140150852514816-&gt;140150852515152</title>\n",
       "<path d=\"M127,-146.313C127,-138.289 127,-128.547 127,-119.569\" fill=\"none\" stroke=\"black\"/>\n",
       "<polygon fill=\"black\" points=\"130.5,-119.529 127,-109.529 123.5,-119.529 130.5,-119.529\" stroke=\"black\"/>\n",
       "</g>\n",
       "<!-- 140150852515488 -->\n",
       "<g class=\"node\" id=\"node13\"><title>140150852515488</title>\n",
       "<polygon fill=\"none\" points=\"81,-0.5 81,-36.5 173,-36.5 173,-0.5 81,-0.5\" stroke=\"black\"/>\n",
       "<text font-family=\"Times,serif\" font-size=\"14.00\" text-anchor=\"middle\" x=\"127\" y=\"-14.8\">fc3: Dense</text>\n",
       "</g>\n",
       "<!-- 140150852515152&#45;&gt;140150852515488 -->\n",
       "<g class=\"edge\" id=\"edge12\"><title>140150852515152-&gt;140150852515488</title>\n",
       "<path d=\"M127,-73.3129C127,-65.2895 127,-55.5475 127,-46.5691\" fill=\"none\" stroke=\"black\"/>\n",
       "<polygon fill=\"black\" points=\"130.5,-46.5288 127,-36.5288 123.5,-46.5289 130.5,-46.5288\" stroke=\"black\"/>\n",
       "</g>\n",
       "</g>\n",
       "</svg>"
      ],
      "text/plain": [
       "<IPython.core.display.SVG object>"
      ]
     },
     "execution_count": 23,
     "metadata": {},
     "output_type": "execute_result"
    }
   ],
   "source": [
    "plot_model(model_lenet, to_file='model_lenet.png')\n",
    "SVG(model_to_dot(model_lenet).create(prog='dot', format='svg'))"
   ]
  },
  {
   "cell_type": "code",
   "execution_count": 24,
   "metadata": {},
   "outputs": [
    {
     "name": "stdout",
     "output_type": "stream",
     "text": [
      "dict_keys(['val_loss', 'val_acc', 'loss', 'acc'])\n"
     ]
    },
    {
     "data": {
      "text/plain": [
       "Text(0.5,0,'epoch')"
      ]
     },
     "execution_count": 24,
     "metadata": {},
     "output_type": "execute_result"
    },
    {
     "data": {
      "image/png": "[encoded data removed]",
      "text/plain": [
       "<matplotlib.figure.Figure at 0x7f7752be88d0>"
      ]
     },
     "metadata": {
      "needs_background": "light"
     },
     "output_type": "display_data"
    }
   ],
   "source": [
    "print(history.history.keys())\n",
    "plt.plot(history.history['loss'])\n",
    "plt.plot(history.history['val_loss'])\n",
    "plt.legend(['training', 'validation'])\n",
    "plt.title('Model Loss')\n",
    "plt.xlabel('epoch')"
   ]
  },
  {
   "cell_type": "code",
   "execution_count": 25,
   "metadata": {},
   "outputs": [
    {
     "data": {
      "text/plain": [
       "Text(0.5,0,'epoch')"
      ]
     },
     "execution_count": 25,
     "metadata": {},
     "output_type": "execute_result"
    },
    {
     "data": {
      "image/png": "[encoded data removed]",
      "text/plain": [
       "<matplotlib.figure.Figure at 0x7f7752c67550>"
      ]
     },
     "metadata": {
      "needs_background": "light"
     },
     "output_type": "display_data"
    }
   ],
   "source": [
    "plt.plot(history.history['acc'])\n",
    "plt.plot(history.history['val_acc'])\n",
    "plt.legend(['training', 'validation'])\n",
    "plt.title('Model Accuracy')\n",
    "plt.xlabel('epoch')"
   ]
  },
  {
   "cell_type": "markdown",
   "metadata": {},
   "source": [
    "## Using Inception Model"
   ]
  },
  {
   "cell_type": "code",
   "execution_count": null,
   "metadata": {},
   "outputs": [],
   "source": [
    "from keras.applications.inception_v3 import InceptionV3\n",
    "from keras.layers import Lambda, GlobalAveragePooling2D\n",
    "\n",
    "# Set a couple flags for training - you can ignore these for now\n",
    "freeze_flag = False  # `True` to freeze layers, `False` for full training\n",
    "weights_flag = None # 'imagenet' or None\n",
    "preprocess_flag = True # Should be true for ImageNet pre-trained typically\n",
    "\n",
    "input_size = 139\n",
    "\n",
    "inception = InceptionV3(weights=weights_flag, include_top=False,\n",
    "                        input_shape=(input_size,input_size,1))\n",
    "\n",
    "X_input_inception = Input(shape=(32, 32, 1))\n",
    "\n",
    "# Re-sizes the input with Kera's Lambda layer & attach to cifar_input\n",
    "resized_input = Lambda(lambda image: tf.image.resize_images( \n",
    "                image, (input_size, input_size)))(X_input_inception)\n",
    "\n",
    "inp = inception(resized_input)\n",
    "x = GlobalAveragePooling2D()(inp)\n",
    "out = Dense(512, activation = 'relu')(x)\n",
    "predictions = Dense(43, activation = 'softmax')(out)\n"
   ]
  },
  {
   "cell_type": "code",
   "execution_count": null,
   "metadata": {},
   "outputs": [],
   "source": [
    "model = Model(inputs=X_input_inception, outputs=predictions, name='inceptionV3')\n",
    "\n",
    "model.compile(optimizer='Adam', loss='categorical_crossentropy', metrics=['accuracy'])\n",
    "\n",
    "model.fit(X_train, y_train, epochs = 5, batch_size = 32)"
   ]
  },
  {
   "cell_type": "code",
   "execution_count": null,
   "metadata": {},
   "outputs": [],
   "source": [
    "model_lenet = keras.models.load_model('model_inception')"
   ]
  },
  {
   "cell_type": "code",
   "execution_count": null,
   "metadata": {},
   "outputs": [],
   "source": [
    "model.summary()"
   ]
  },
  {
   "cell_type": "code",
   "execution_count": null,
   "metadata": {},
   "outputs": [],
   "source": [
    "preds = model.evaluate(X_valid, y_valid)\n",
    "print (\"Loss = \" + str(preds[0]))\n",
    "print (\"Test Accuracy = \" + str(preds[1]*100))"
   ]
  },
  {
   "cell_type": "code",
   "execution_count": null,
   "metadata": {},
   "outputs": [],
   "source": [
    "preds = model.evaluate(X_test, y_test)\n",
    "print (\"Loss = \" + str(preds[0]))\n",
    "print (\"Test Accuracy = \" + str(preds[1]*100))"
   ]
  },
  {
   "cell_type": "code",
   "execution_count": null,
   "metadata": {},
   "outputs": [],
   "source": [
    "model.save(\"model_inception\")"
   ]
  },
  {
   "cell_type": "markdown",
   "metadata": {},
   "source": [
    "---\n",
    "\n",
    "## Test a Model on New Images"
   ]
  },
  {
   "cell_type": "markdown",
   "metadata": {},
   "source": [
    "### Load and Output the Images"
   ]
  },
  {
   "cell_type": "code",
   "execution_count": 30,
   "metadata": {},
   "outputs": [],
   "source": [
    "model =  keras.models.load_model('model_lenet-5')"
   ]
  },
  {
   "cell_type": "code",
   "execution_count": 31,
   "metadata": {},
   "outputs": [
    {
     "data": {
      "image/png": "[encoded data removed]",
      "text/plain": [
       "<matplotlib.figure.Figure at 0x7f7752bbb400>"
      ]
     },
     "metadata": {
      "needs_background": "light"
     },
     "output_type": "display_data"
    }
   ],
   "source": [
    "### Load the images and plot them here.\n",
    "### Feel free to use as many code cells as needed.\n",
    "my_images_reader = sorted(glob.glob('data/mysigns/*.png'))\n",
    "my_images = []\n",
    "for i in my_images_reader:\n",
    "    img = plt.imread(i)\n",
    "    my_images.append(img)\n",
    "    \n",
    "my_images = np.array(my_images)\n",
    "my_labels = [1, 22, 35, 15, 37]\n",
    "display_images(my_images, my_labels, signnames_dict)"
   ]
  },
  {
   "cell_type": "markdown",
   "metadata": {},
   "source": [
    "### Predict the Sign Type for Each Image"
   ]
  },
  {
   "cell_type": "code",
   "execution_count": 32,
   "metadata": {},
   "outputs": [
    {
     "name": "stdout",
     "output_type": "stream",
     "text": [
      "prediction: Speed limit (30km/h) || correct label: Speed limit (30km/h)\n",
      "prediction: Slippery road || correct label: Bumpy road\n",
      "prediction: Ahead only || correct label: Ahead only\n",
      "prediction: Keep right || correct label: No vehicles\n",
      "prediction: Go straight or left || correct label: Go straight or left\n"
     ]
    }
   ],
   "source": [
    "### Run the predictions here and use the model to output the prediction for each image.\n",
    "### Make sure to pre-process the images with the same pre-processing pipeline used earlier.\n",
    "### Feel free to use as many code cells as needed.\n",
    "my_images_gray = np.sum(my_images/3, axis=3, keepdims=True)\n",
    "my_images_gray = my_images_gray/255\n",
    "predicted_labels = []\n",
    "for i in my_images_gray:\n",
    "    i = np.expand_dims(i, axis=0)\n",
    "    prediction = model.predict(i)\n",
    "    predicted_sign = np.argmax(prediction)\n",
    "    predicted_labels.append(predicted_sign)\n",
    "\n",
    "for l in range(len(predicted_labels)):\n",
    "    pred = signnames_dict[str(predicted_labels[l])]\n",
    "    correct = signnames_dict[str(my_labels[l])]\n",
    "    \n",
    "    print(\"prediction: \" + pred + \" || correct label: \" + correct)"
   ]
  },
  {
   "cell_type": "markdown",
   "metadata": {},
   "source": [
    "### Analyze Performance"
   ]
  },
  {
   "cell_type": "code",
   "execution_count": 33,
   "metadata": {},
   "outputs": [
    {
     "name": "stdout",
     "output_type": "stream",
     "text": [
      "performance on five user images: 60.0%\n"
     ]
    }
   ],
   "source": [
    "### Calculate the accuracy for these 5 new images. \n",
    "### For example, if the model predicted 1 out of 5 signs correctly, it's 20% accurate on these new images.\n",
    "performance = len(set(predicted_labels) & set(my_labels))/len(my_labels) * 100\n",
    "print(\"performance on five user images: \" + str(performance) + '%')\n"
   ]
  },
  {
   "cell_type": "markdown",
   "metadata": {},
   "source": [
    "### Output Top 5 Softmax Probabilities For Each Image Found on the Web"
   ]
  },
  {
   "cell_type": "code",
   "execution_count": 34,
   "metadata": {},
   "outputs": [
    {
     "name": "stdout",
     "output_type": "stream",
     "text": [
      "correct labels:   [1, 22, 35, 15, 37]\n",
      "predicted labels: [1, 23, 35, 38, 37]\n",
      "softmax propabilities: [[  9.98435318e-01   1.56465685e-03   3.40243811e-09   2.12587192e-09\n",
      "    3.97874650e-10]]\n",
      "softmax indices: [[ 1  2 14  5  6]]\n",
      "----------------------------\n",
      "softmax propabilities: [[ 0.82821316  0.12331627  0.02520431  0.01825829  0.00181821]]\n",
      "softmax indices: [[23 29  9 38 22]]\n",
      "----------------------------\n",
      "softmax propabilities: [[  9.99983072e-01   1.58922721e-05   7.13599206e-07   2.22961916e-07\n",
      "    1.01343765e-07]]\n",
      "softmax indices: [[35 29 15 12 36]]\n",
      "----------------------------\n",
      "softmax propabilities: [[  9.84285653e-01   6.67662034e-03   5.85617917e-03   2.24028970e-03\n",
      "    5.01800387e-04]]\n",
      "softmax indices: [[38  8  7  1  2]]\n",
      "----------------------------\n",
      "softmax propabilities: [[  9.99999523e-01   4.96878329e-07   1.44309065e-10   5.08881166e-11\n",
      "    4.58900903e-11]]\n",
      "softmax indices: [[37 35  3 10 12]]\n",
      "----------------------------\n"
     ]
    }
   ],
   "source": [
    "### Print out the top five softmax probabilities for the predictions on the German traffic sign images found on the web. \n",
    "### Feel free to use as many code cells as needed.\n",
    "print(\"correct labels:   \" + str(my_labels))\n",
    "print(\"predicted labels: \" + str(predicted_labels))\n",
    "for i in my_images_gray:\n",
    "    i = np.expand_dims(i, axis=0)\n",
    "    prediction = model.predict(i)\n",
    "    d = tf.nn.top_k(prediction, k=5, sorted=True, name=None)\n",
    "    with tf.Session() as sess:\n",
    "        top_k = sess.run(tf.nn.top_k(tf.constant(prediction), k = 5))\n",
    "        print(\"softmax propabilities: \" + str(top_k.values))\n",
    "        print(\"softmax indices: \" + str(top_k.indices))\n",
    "        print(\"----------------------------\")\n",
    "        \n",
    "    #print(d)\n",
    "    #print(prediction)"
   ]
  },
  {
   "cell_type": "code",
   "execution_count": null,
   "metadata": {},
   "outputs": [],
   "source": []
  }
 ],
 "metadata": {
  "anaconda-cloud": {},
  "kernelspec": {
   "display_name": "Python 3",
   "language": "python",
   "name": "python3"
  },
  "language_info": {
   "codemirror_mode": {
    "name": "ipython",
    "version": 3
   },
   "file_extension": ".py",
   "mimetype": "text/x-python",
   "name": "python",
   "nbconvert_exporter": "python",
   "pygments_lexer": "ipython3",
   "version": "3.6.3"
  }
 },
 "nbformat": 4,
 "nbformat_minor": 1
}
