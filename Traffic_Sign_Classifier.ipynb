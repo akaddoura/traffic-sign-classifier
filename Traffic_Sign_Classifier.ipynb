{
 "cells": [
  {
   "cell_type": "markdown",
   "metadata": {},
   "source": [
    "## Project: Build a Traffic Sign Recognition Classifier"
   ]
  },
  {
   "cell_type": "markdown",
   "metadata": {},
   "source": [
    "### Importing libraries"
   ]
  },
  {
   "cell_type": "code",
   "execution_count": 1,
   "metadata": {},
   "outputs": [
    {
     "name": "stderr",
     "output_type": "stream",
     "text": [
      "Using TensorFlow backend.\n"
     ]
    }
   ],
   "source": [
    "from sklearn import preprocessing\n",
    "import pickle\n",
    "import numpy as np \n",
    "import matplotlib.pyplot as plt\n",
    "import pandas as pd\n",
    "import sys\n",
    "import tensorflow as tf\n",
    "import csv\n",
    "import glob\n",
    "import pickle\n",
    "import cv2\n",
    "\n",
    "import keras\n",
    "from keras.layers import Input, Add, Dropout, Dense, Activation, ZeroPadding2D, BatchNormalization, Flatten, Conv2D, MaxPooling2D\n",
    "from keras.models import Model, load_model\n",
    "from keras.preprocessing import image\n",
    "from keras.callbacks import ModelCheckpoint, EarlyStopping\n",
    "from keras.utils import layer_utils, to_categorical\n",
    "from IPython.display import SVG\n",
    "from keras.utils.vis_utils import model_to_dot\n",
    "from keras.utils import plot_model\n",
    "from keras.initializers import glorot_uniform\n",
    "\n",
    "import keras.backend as K\n",
    "K.set_image_data_format('channels_last')\n",
    "K.set_learning_phase(1)\n",
    "\n",
    "np.set_printoptions(threshold=sys.maxsize)\n",
    "%matplotlib inline"
   ]
  },
  {
   "cell_type": "markdown",
   "metadata": {},
   "source": [
    "---\n",
    "## Step 0: Load The Data"
   ]
  },
  {
   "cell_type": "code",
   "execution_count": 30,
   "metadata": {},
   "outputs": [],
   "source": [
    "# Load pickled data\n",
    "training_file = \"data/train.p\"\n",
    "validation_file= \"data/valid.p\"\n",
    "testing_file = \"data/test.p\"\n",
    "signnames_file = \"signnames.csv\"\n",
    "\n",
    "with open(training_file, mode='rb') as f:\n",
    "    train = pickle.load(f)\n",
    "with open(validation_file, mode='rb') as f:\n",
    "    valid = pickle.load(f)\n",
    "with open(testing_file, mode='rb') as f:\n",
    "    test = pickle.load(f)\n",
    "with open(signnames_file, mode='r') as data:\n",
    "    reader = csv.reader(data)\n",
    "    next(reader)\n",
    "    signnames_dict = dict(reader)  # pull in each row as a key-value pair\n",
    "    \n",
    "X_train, y_train = train['features'], train['labels']\n",
    "X_valid, y_valid = valid['features'], valid['labels']\n",
    "X_test, y_test = test['features'], test['labels']"
   ]
  },
  {
   "cell_type": "code",
   "execution_count": 31,
   "metadata": {},
   "outputs": [],
   "source": [
    "# Assert that the datasets match. \n",
    "assert(X_train.shape[0] == y_train.shape[0]), \"No. of Images is not equals to number of labels\"\n",
    "assert(X_valid.shape[0] == y_valid.shape[0]), \"No. of Images is not equals to number of labels\"\n",
    "assert(X_test.shape[0] == y_test.shape[0]), \"No. of Images is not equals to number of labels\"\n",
    "\n",
    "assert(X_train.shape[1:] == (32,32,3)), \"The Dimesnsions of the images are not 32 x 32 x 3\"\n",
    "assert(X_valid.shape[1:] == (32,32,3)), \"The Dimesnsions of the images are not 32 x 32 x 3\"\n",
    "assert(X_test.shape[1:] == (32,32,3)), \"The Dimesnsions of the images are not 32 x 32 x 3\""
   ]
  },
  {
   "cell_type": "markdown",
   "metadata": {},
   "source": [
    "---\n",
    "\n",
    "## Dataset Summary & Exploration\n",
    "\n",
    "The pickled data is a dictionary with 4 key/value pairs:\n",
    "\n",
    "- `'features'` is a 4D array containing raw pixel data of the traffic sign images, (num examples, width, height, channels).\n",
    "- `'labels'` is a 1D array containing the label/class id of the traffic sign. The file `signnames.csv` contains id -> name mappings for each id.\n",
    "- `'sizes'` is a list containing tuples, (width, height) representing the original width and height the image.\n",
    "- `'coords'` is a list containing tuples, (x1, y1, x2, y2) representing coordinates of a bounding box around the sign in the image."
   ]
  },
  {
   "cell_type": "code",
   "execution_count": 32,
   "metadata": {},
   "outputs": [
    {
     "name": "stdout",
     "output_type": "stream",
     "text": [
      "Number of training examples = 34799\n",
      "Number of testing examples = 12630\n",
      "Image data shape = (32, 32, 3)\n",
      "Number of classes = 43\n"
     ]
    }
   ],
   "source": [
    "\n",
    "# Number of training examples\n",
    "n_train = y_train.shape[0]\n",
    "\n",
    "# Number of validation examples\n",
    "n_validation = y_valid.shape[0]\n",
    "\n",
    "# Number of testing examples.\n",
    "n_test = y_test.shape[0]\n",
    "\n",
    "# Image shape in the data set\n",
    "image_shape = (X_train.shape[1], X_train.shape[2], X_train.shape[3])\n",
    "\n",
    "# Unique classes in the data set\n",
    "n_classes = len(np.unique(y_train))\n",
    "\n",
    "print(\"Number of training examples =\", n_train)\n",
    "print(\"Number of testing examples =\", n_test)\n",
    "print(\"Image data shape =\", image_shape)\n",
    "print(\"Number of classes =\", n_classes)"
   ]
  },
  {
   "cell_type": "markdown",
   "metadata": {},
   "source": [
    "### Data Visualization"
   ]
  },
  {
   "cell_type": "code",
   "execution_count": 33,
   "metadata": {},
   "outputs": [],
   "source": [
    "def shuffle(batch, seed = 0):\n",
    "    m = batch.shape[0]\n",
    "    np.random.seed(seed)\n",
    "    permutation = list(np.random.permutation(m))\n",
    "    shuffled_batch = batch[permutation]\n",
    "    return shuffled_batch, permutation"
   ]
  },
  {
   "cell_type": "code",
   "execution_count": 34,
   "metadata": {},
   "outputs": [],
   "source": [
    "def shuffle_both(batch_1, batch_2, seed = 0):\n",
    "    m = batch_1.shape[0]\n",
    "    np.random.seed(seed)\n",
    "    permutation = list(np.random.permutation(m))\n",
    "    shuffled_batch_1 = batch_1[permutation]\n",
    "    shuffled_batch_2 = batch_2[permutation]\n",
    "    return shuffled_batch_1, shuffled_batch_2"
   ]
  },
  {
   "cell_type": "code",
   "execution_count": 35,
   "metadata": {},
   "outputs": [],
   "source": [
    "def create_random_mini_batch(batch, n, seed = 0):\n",
    "    np.random.seed(seed)\n",
    "    shuffled_batch, permutation = shuffle(batch, seed = seed)\n",
    "    m = shuffled_batch.shape[0]\n",
    "    ind = np.random.randint(m-n)\n",
    "    mini_batch = shuffled_batch[ind:ind+n]\n",
    "    indices = permutation[ind:ind+n]\n",
    "    return mini_batch, indices"
   ]
  },
  {
   "cell_type": "code",
   "execution_count": 36,
   "metadata": {},
   "outputs": [],
   "source": [
    "def display_images(images, labels, signnames_dict):\n",
    "    '''\n",
    "    This function will display images in a grid set by the sizes of c and r.\n",
    "    The number of rows and columns must be high enough to accomdate the\n",
    "    number of images \n",
    "    :param images: list of images to be shown in the grid\n",
    "    :param c: number of columns in the grid\n",
    "    :param r: number of rows in the grid\n",
    "    :return: displays images as per the plt.show() function\n",
    "    '''\n",
    "    # Visualize transformation\n",
    "    w = 14\n",
    "    h = 14\n",
    "    axes = []\n",
    "    fig = plt.figure(figsize=(w, h))\n",
    "    columns = 3\n",
    "    rows = len(images)//columns + 1\n",
    "    \n",
    "    for i in range(1, len(images) + 1):\n",
    "        img = images[i-1]\n",
    "        axes.append(fig.add_subplot(rows, columns, i))\n",
    "        subplot_title = signnames_dict[str(labels[i-1])]\n",
    "        axes[-1].set_title(subplot_title)\n",
    "        plt.imshow(img,  cmap = plt.cm.gray)\n",
    "    plt.show()"
   ]
  },
  {
   "cell_type": "code",
   "execution_count": 37,
   "metadata": {
    "scrolled": false
   },
   "outputs": [
    {
     "data": {
      "image/png": "[encoded data removed]",
      "text/plain": [
       "<matplotlib.figure.Figure at 0x7fc1abac6fd0>"
      ]
     },
     "metadata": {
      "needs_background": "light"
     },
     "output_type": "display_data"
    }
   ],
   "source": [
    "# Display\n",
    "seed = np.random.randint(1000)\n",
    "\n",
    "display_number = 9\n",
    "mini_batch, indices = create_random_mini_batch(X_train, n = display_number, seed = seed)\n",
    "labels = list(y_train[indices])\n",
    "display_images(mini_batch, labels, signnames_dict)"
   ]
  },
  {
   "cell_type": "code",
   "execution_count": 38,
   "metadata": {},
   "outputs": [
    {
     "name": "stdout",
     "output_type": "stream",
     "text": [
      "[180, 1980, 2010, 1260, 1770, 1650, 360, 1290, 1260, 1320, 1800, 1170, 1890, 1920, 690, 540, 360, 990, 1080, 180, 300, 270, 330, 450, 240, 1350, 540, 210, 480, 240, 390, 690, 210, 599, 360, 1080, 330, 180, 1860, 270, 300, 210, 210]\n"
     ]
    },
    {
     "data": {
      "image/png": "[encoded data removed]",
      "text/plain": [
       "<matplotlib.figure.Figure at 0x7fc1aa0f5240>"
      ]
     },
     "metadata": {
      "needs_background": "light"
     },
     "output_type": "display_data"
    }
   ],
   "source": [
    "total_per_label = []\n",
    "for l in range(n_classes):\n",
    "    label = X_train[y_train == l]\n",
    "    total_per_label.append(len(label))\n",
    "\n",
    "print(total_per_label)\n",
    "plt.figure(figsize=(12, 4))\n",
    "plt.bar(range(0, n_classes), total_per_label)\n",
    "plt.title(\"Distribution of the train dataset\")\n",
    "plt.xlabel(\"Class number\")\n",
    "plt.ylabel(\"Number of images\")\n",
    "plt.show()"
   ]
  },
  {
   "cell_type": "markdown",
   "metadata": {},
   "source": [
    "Because the lighting conditions on the signs are uniform (some are dim while others are bright), we will use historgram equalization to normalize the pixel intensity distributions at the preprocessing stage."
   ]
  },
  {
   "cell_type": "markdown",
   "metadata": {},
   "source": [
    "----\n",
    "\n",
    "## Pre-processing"
   ]
  },
  {
   "cell_type": "markdown",
   "metadata": {},
   "source": [
    "### grayscale and normalization"
   ]
  },
  {
   "cell_type": "code",
   "execution_count": 39,
   "metadata": {},
   "outputs": [],
   "source": [
    "def grayscale(img):\n",
    "    gray = cv2.cvtColor(img, cv2.COLOR_BGR2GRAY)\n",
    "    return gray\n",
    "\n",
    "def equalize(img):\n",
    "    equal = cv2.equalizeHist(img)\n",
    "    return equal\n",
    "\n",
    "def preprocessing(img):\n",
    "    gray = grayscale(img)\n",
    "    #equal = equalize(gray)\n",
    "    norm = gray/255\n",
    "    return norm"
   ]
  },
  {
   "cell_type": "code",
   "execution_count": 40,
   "metadata": {},
   "outputs": [],
   "source": [
    "# setting random seed value and shuffling the dataset\n",
    "seed = np.random.randint(100000)\n",
    "X_train, y_train = shuffle_both(X_train, y_train, seed = seed)\n",
    "\n",
    "X_train = np.array(list(map(preprocessing, X_train)))\n",
    "X_valid = np.array(list(map(preprocessing, X_valid)))\n",
    "X_test = np.array(list(map(preprocessing, X_test)))\n",
    "\n",
    "# one-hot encoders for the labels\n",
    "y_train = to_categorical(y_train, 43)\n",
    "y_valid = to_categorical(y_valid, 43)\n",
    "y_test = to_categorical(y_test, 43)"
   ]
  },
  {
   "cell_type": "code",
   "execution_count": 41,
   "metadata": {},
   "outputs": [
    {
     "name": "stdout",
     "output_type": "stream",
     "text": [
      "number of training examples = 34799\n",
      "number of valid examples = 4410\n",
      "X_train shape: (34799, 32, 32)\n",
      "Y_train shape: (34799, 43)\n",
      "X_valid shape: (4410, 32, 32)\n",
      "Y_valid shape: (4410, 43)\n",
      "X_test shape: (12630, 32, 32)\n",
      "Y_test shape: (12630, 43)\n"
     ]
    }
   ],
   "source": [
    "print (\"number of training examples = \" + str(X_train.shape[0]))\n",
    "print (\"number of valid examples = \" + str(X_valid.shape[0]))\n",
    "print (\"X_train shape: \" + str(X_train.shape))\n",
    "print (\"Y_train shape: \" + str(y_train.shape))\n",
    "print (\"X_valid shape: \" + str(X_valid.shape))\n",
    "print (\"Y_valid shape: \" + str(y_valid.shape))\n",
    "print (\"X_test shape: \" + str(X_test.shape))\n",
    "print (\"Y_test shape: \" + str(y_test.shape))"
   ]
  },
  {
   "cell_type": "markdown",
   "metadata": {},
   "source": [
    "### Data Augmentation"
   ]
  },
  {
   "cell_type": "code",
   "execution_count": 42,
   "metadata": {},
   "outputs": [
    {
     "name": "stdout",
     "output_type": "stream",
     "text": [
      "(34799, 32, 32, 1)\n"
     ]
    }
   ],
   "source": [
    "from keras.preprocessing.image import ImageDataGenerator\n",
    "\n",
    "X_train = np.expand_dims(X_train, axis = -1)\n",
    "X_valid = np.expand_dims(X_valid, axis = -1)\n",
    "X_test = np.expand_dims(X_test, axis = -1)\n",
    "\n",
    "datagen = ImageDataGenerator(width_shift_range=0.1,\n",
    "                             height_shift_range=0.1,\n",
    "                            zoom_range=0.2,\n",
    "                            shear_range=0.1,\n",
    "                            rotation_range=10.)\n",
    "\n",
    "datagen.fit(X_train)\n",
    "print(X_train.shape)"
   ]
  },
  {
   "cell_type": "markdown",
   "metadata": {},
   "source": [
    "### Model Architecture"
   ]
  },
  {
   "cell_type": "code",
   "execution_count": 43,
   "metadata": {},
   "outputs": [],
   "source": [
    "def lenet(input_shape = (32, 32, 1), classes = 43, seed = 0):\n",
    "    \"\"\"\n",
    "    Implementation of the popular ResNet50 the following architecture:\n",
    "    CONV2D -> BATCHNORM -> RELU -> MAXPOOL -> CONVBLOCK -> IDBLOCK*2 -> CONVBLOCK -> IDBLOCK*3\n",
    "    -> CONVBLOCK -> IDBLOCK*5 -> CONVBLOCK -> IDBLOCK*2 -> AVGPOOL -> TOPLAYER\n",
    "\n",
    "    Arguments:\n",
    "    input_shape -- shape of the images of the dataset\n",
    "    classes -- integer, number of classes\n",
    "\n",
    "    Returns:\n",
    "    model -- a Model() instance in Keras\n",
    "    \"\"\"\n",
    "    X_input = Input(shape=input_shape)\n",
    "    \n",
    "    X = X_input\n",
    "    X = Conv2D(6, (5, 5), strides = (1, 1), name = 'conv1')(X)\n",
    "    X = BatchNormalization(axis = 3, name = 'bn_conv1')(X)\n",
    "    X = Activation('relu')(X)\n",
    "    X = MaxPooling2D((2,2), strides=(2,2))(X)\n",
    "    \n",
    "    X = Conv2D(16, (5, 5), strides = (1, 1), name = 'conv2')(X)\n",
    "    X = BatchNormalization(axis = 3, name = 'bn_conv2')(X)\n",
    "    X = Activation('relu')(X)\n",
    "    X = MaxPooling2D((2,2), strides=(2,2))(X)\n",
    "\n",
    "    X = Flatten()(X)\n",
    "    X = Dense(120, activation='relu', name='fc1')(X)\n",
    "    #X = Dropout(0.5)(X)\n",
    "    X = Dense(84, activation='relu', name='fc2')(X)\n",
    "    #X = Dropout(0.5)(X)\n",
    "    X = Dense(classes, activation='softmax', name='fc3')(X)\n",
    "\n",
    "    # create model\n",
    "    model = Model(inputs=X_input, outputs=X, name='LeNet-5')\n",
    "    \n",
    "    return model"
   ]
  },
  {
   "cell_type": "markdown",
   "metadata": {},
   "source": [
    "### Train, Validate and Test the Model"
   ]
  },
  {
   "cell_type": "markdown",
   "metadata": {},
   "source": [
    "A validation set can be used to assess how well the model is performing. A low accuracy on the training and validation\n",
    "sets imply underfitting. A high accuracy on the training set but low accuracy on the validation set implies overfitting."
   ]
  },
  {
   "cell_type": "code",
   "execution_count": 44,
   "metadata": {},
   "outputs": [],
   "source": [
    "seed = np.random.randint(1000)\n",
    "model = lenet(input_shape = (32, 32, 1), classes = 43, seed = seed)\n",
    "model.compile(optimizer='adam', loss='categorical_crossentropy', metrics=['accuracy'])"
   ]
  },
  {
   "cell_type": "markdown",
   "metadata": {},
   "source": [
    "creating callbacks to imrpove training process."
   ]
  },
  {
   "cell_type": "code",
   "execution_count": 45,
   "metadata": {},
   "outputs": [],
   "source": [
    "checkpoint = ModelCheckpoint(filepath=\"call_back_checkpoint\", \n",
    "                             monitor='val_loss', \n",
    "                             save_best_only=True)\n",
    "\n",
    "stopper = EarlyStopping(monitor='val_acc', \n",
    "                        min_delta=0.0003, \n",
    "                        patience=5)\n",
    "\n",
    "callbacks = [checkpoint]"
   ]
  },
  {
   "cell_type": "markdown",
   "metadata": {},
   "source": [
    "### Model Training"
   ]
  },
  {
   "cell_type": "code",
   "execution_count": 52,
   "metadata": {
    "scrolled": false
   },
   "outputs": [
    {
     "name": "stdout",
     "output_type": "stream",
     "text": [
      "Epoch 1/30\n",
      "2000/2000 [==============================] - 30s 15ms/step - loss: 0.1209 - acc: 0.9626 - val_loss: 0.3309 - val_acc: 0.9134\n",
      "Epoch 2/30\n",
      "2000/2000 [==============================] - 30s 15ms/step - loss: 0.1169 - acc: 0.9627 - val_loss: 0.3320 - val_acc: 0.9247\n",
      "Epoch 3/30\n",
      "2000/2000 [==============================] - 30s 15ms/step - loss: 0.1156 - acc: 0.9639 - val_loss: 0.3562 - val_acc: 0.9150\n",
      "Epoch 4/30\n",
      "2000/2000 [==============================] - 30s 15ms/step - loss: 0.1101 - acc: 0.9656 - val_loss: 0.4429 - val_acc: 0.9073\n",
      "Epoch 5/30\n",
      "2000/2000 [==============================] - 30s 15ms/step - loss: 0.1070 - acc: 0.9671 - val_loss: 0.3745 - val_acc: 0.9213\n",
      "Epoch 6/30\n",
      "2000/2000 [==============================] - 30s 15ms/step - loss: 0.1014 - acc: 0.9683 - val_loss: 0.4107 - val_acc: 0.9070\n",
      "Epoch 7/30\n",
      "2000/2000 [==============================] - 30s 15ms/step - loss: 0.1016 - acc: 0.9680 - val_loss: 0.3570 - val_acc: 0.9229\n",
      "Epoch 8/30\n",
      "2000/2000 [==============================] - 30s 15ms/step - loss: 0.0996 - acc: 0.9681 - val_loss: 0.3829 - val_acc: 0.9206\n",
      "Epoch 9/30\n",
      "2000/2000 [==============================] - 30s 15ms/step - loss: 0.0946 - acc: 0.9701 - val_loss: 0.4294 - val_acc: 0.9134\n",
      "Epoch 10/30\n",
      "2000/2000 [==============================] - 30s 15ms/step - loss: 0.0962 - acc: 0.9696 - val_loss: 0.4034 - val_acc: 0.9159\n",
      "Epoch 11/30\n",
      "2000/2000 [==============================] - 30s 15ms/step - loss: 0.0941 - acc: 0.9712 - val_loss: 0.4117 - val_acc: 0.9252\n",
      "Epoch 12/30\n",
      "2000/2000 [==============================] - 30s 15ms/step - loss: 0.0950 - acc: 0.9711 - val_loss: 0.4061 - val_acc: 0.9091\n",
      "Epoch 13/30\n",
      "2000/2000 [==============================] - 30s 15ms/step - loss: 0.0937 - acc: 0.9709 - val_loss: 0.5131 - val_acc: 0.9054\n",
      "Epoch 14/30\n",
      "2000/2000 [==============================] - 30s 15ms/step - loss: 0.0892 - acc: 0.9722 - val_loss: 0.4935 - val_acc: 0.9179\n",
      "Epoch 15/30\n",
      "2000/2000 [==============================] - 30s 15ms/step - loss: 0.0856 - acc: 0.9726 - val_loss: 0.5263 - val_acc: 0.9084\n",
      "Epoch 16/30\n",
      "2000/2000 [==============================] - 30s 15ms/step - loss: 0.0852 - acc: 0.9741 - val_loss: 0.4583 - val_acc: 0.9161\n",
      "Epoch 17/30\n",
      "2000/2000 [==============================] - 30s 15ms/step - loss: 0.0865 - acc: 0.9737 - val_loss: 0.5143 - val_acc: 0.9091\n",
      "Epoch 18/30\n",
      "2000/2000 [==============================] - 30s 15ms/step - loss: 0.0839 - acc: 0.9739 - val_loss: 0.4753 - val_acc: 0.9156\n",
      "Epoch 19/30\n",
      "2000/2000 [==============================] - 30s 15ms/step - loss: 0.0838 - acc: 0.9744 - val_loss: 0.4734 - val_acc: 0.9175\n",
      "Epoch 20/30\n",
      "2000/2000 [==============================] - 30s 15ms/step - loss: 0.0818 - acc: 0.9744 - val_loss: 0.4566 - val_acc: 0.9231\n",
      "Epoch 21/30\n",
      "2000/2000 [==============================] - 30s 15ms/step - loss: 0.0791 - acc: 0.9754 - val_loss: 0.4346 - val_acc: 0.9213\n",
      "Epoch 22/30\n",
      "2000/2000 [==============================] - 30s 15ms/step - loss: 0.0815 - acc: 0.9747 - val_loss: 0.4781 - val_acc: 0.9168\n",
      "Epoch 23/30\n",
      "2000/2000 [==============================] - 30s 15ms/step - loss: 0.0821 - acc: 0.9748 - val_loss: 0.5432 - val_acc: 0.9079\n",
      "Epoch 24/30\n",
      "2000/2000 [==============================] - 30s 15ms/step - loss: 0.0738 - acc: 0.9765 - val_loss: 0.5010 - val_acc: 0.9161\n",
      "Epoch 25/30\n",
      "2000/2000 [==============================] - 30s 15ms/step - loss: 0.0791 - acc: 0.9754 - val_loss: 0.4561 - val_acc: 0.9154\n",
      "Epoch 26/30\n",
      "2000/2000 [==============================] - 30s 15ms/step - loss: 0.0767 - acc: 0.9761 - val_loss: 0.4984 - val_acc: 0.9186\n",
      "Epoch 27/30\n",
      "2000/2000 [==============================] - 30s 15ms/step - loss: 0.0738 - acc: 0.9766 - val_loss: 0.4350 - val_acc: 0.9168\n",
      "Epoch 28/30\n",
      "2000/2000 [==============================] - 30s 15ms/step - loss: 0.0771 - acc: 0.9761 - val_loss: 0.4836 - val_acc: 0.9145\n",
      "Epoch 29/30\n",
      "2000/2000 [==============================] - 30s 15ms/step - loss: 0.0757 - acc: 0.9762 - val_loss: 0.4698 - val_acc: 0.9125\n",
      "Epoch 30/30\n",
      "2000/2000 [==============================] - 30s 15ms/step - loss: 0.0743 - acc: 0.9769 - val_loss: 0.4439 - val_acc: 0.9159\n"
     ]
    }
   ],
   "source": [
    "#model.fit(X_train, y_train, epochs = 30, batch_size = 128, callbacks=callbacks)\n",
    "#history = model.fit(X_train, y_train, epochs = 30, validation_data = (X_valid, y_valid), batch_size = 64)\n",
    "history = model.fit_generator(datagen.flow(X_train, y_train, batch_size=50),\n",
    "                            steps_per_epoch=2000,\n",
    "                            epochs=30,\n",
    "                            validation_data=(X_valid, y_valid), shuffle = 1)"
   ]
  },
  {
   "cell_type": "markdown",
   "metadata": {},
   "source": [
    "If a model was previously saved, the below cell is used to load it again to skip training. "
   ]
  },
  {
   "cell_type": "code",
   "execution_count": null,
   "metadata": {},
   "outputs": [],
   "source": [
    "model =  keras.models.load_model('model_lenet-5')"
   ]
  },
  {
   "cell_type": "code",
   "execution_count": 53,
   "metadata": {
    "scrolled": true
   },
   "outputs": [
    {
     "name": "stdout",
     "output_type": "stream",
     "text": [
      "4410/4410 [==============================] - 0s 101us/step\n",
      "Loss = 0.414998436902\n",
      "Test Accuracy = 92.6984127363\n"
     ]
    }
   ],
   "source": [
    "preds = model.evaluate(X_valid, y_valid)\n",
    "print (\"Loss = \" + str(preds[0]))\n",
    "print (\"Test Accuracy = \" + str(preds[1]*100))"
   ]
  },
  {
   "cell_type": "code",
   "execution_count": 54,
   "metadata": {},
   "outputs": [
    {
     "name": "stdout",
     "output_type": "stream",
     "text": [
      "12630/12630 [==============================] - 1s 97us/step\n",
      "Loss = 0.267942509659\n",
      "Test Accuracy = 94.8772763281\n"
     ]
    }
   ],
   "source": [
    "preds = model.evaluate(X_test, y_test)\n",
    "print (\"Loss = \" + str(preds[0]))\n",
    "print (\"Test Accuracy = \" + str(preds[1]*100))"
   ]
  },
  {
   "cell_type": "code",
   "execution_count": null,
   "metadata": {},
   "outputs": [],
   "source": [
    "model.save(\"model_lenet-5\")"
   ]
  },
  {
   "cell_type": "code",
   "execution_count": null,
   "metadata": {},
   "outputs": [],
   "source": [
    "model_lenet =  keras.models.load_model('model_lenet-5')\n",
    "model.summary()"
   ]
  },
  {
   "cell_type": "code",
   "execution_count": 55,
   "metadata": {},
   "outputs": [
    {
     "name": "stdout",
     "output_type": "stream",
     "text": [
      "dict_keys(['val_loss', 'val_acc', 'loss', 'acc'])\n"
     ]
    },
    {
     "data": {
      "text/plain": [
       "Text(0.5,0,'epoch')"
      ]
     },
     "execution_count": 55,
     "metadata": {},
     "output_type": "execute_result"
    },
    {
     "data": {
      "image/png": "[encoded data removed]",
      "text/plain": [
       "<matplotlib.figure.Figure at 0x7fc1a98be0f0>"
      ]
     },
     "metadata": {
      "needs_background": "light"
     },
     "output_type": "display_data"
    }
   ],
   "source": [
    "print(history.history.keys())\n",
    "plt.plot(history.history['loss'])\n",
    "plt.plot(history.history['val_loss'])\n",
    "plt.legend(['training', 'validation'])\n",
    "plt.title('Model Loss')\n",
    "plt.xlabel('epoch')"
   ]
  },
  {
   "cell_type": "code",
   "execution_count": 56,
   "metadata": {},
   "outputs": [
    {
     "data": {
      "text/plain": [
       "Text(0.5,0,'epoch')"
      ]
     },
     "execution_count": 56,
     "metadata": {},
     "output_type": "execute_result"
    },
    {
     "data": {
      "image/png": "[encoded data removed]",
      "text/plain": [
       "<matplotlib.figure.Figure at 0x7fc1a9943908>"
      ]
     },
     "metadata": {
      "needs_background": "light"
     },
     "output_type": "display_data"
    }
   ],
   "source": [
    "plt.plot(history.history['acc'])\n",
    "plt.plot(history.history['val_acc'])\n",
    "plt.legend(['training', 'validation'])\n",
    "plt.title('Model Accuracy')\n",
    "plt.xlabel('epoch')"
   ]
  },
  {
   "cell_type": "markdown",
   "metadata": {},
   "source": [
    "## Using Inception Model"
   ]
  },
  {
   "cell_type": "code",
   "execution_count": null,
   "metadata": {},
   "outputs": [],
   "source": [
    "from keras.applications.inception_v3 import InceptionV3\n",
    "from keras.layers import Lambda, GlobalAveragePooling2D\n",
    "\n",
    "# Set a couple flags for training - you can ignore these for now\n",
    "freeze_flag = False  # `True` to freeze layers, `False` for full training\n",
    "weights_flag = None # 'imagenet' or None\n",
    "preprocess_flag = True # Should be true for ImageNet pre-trained typically\n",
    "\n",
    "input_size = 139\n",
    "\n",
    "inception = InceptionV3(weights=weights_flag, include_top=False,\n",
    "                        input_shape=(input_size,input_size,1))\n",
    "\n",
    "X_input_inception = Input(shape=(32, 32, 1))\n",
    "\n",
    "# Re-sizes the input with Kera's Lambda layer & attach to cifar_input\n",
    "resized_input = Lambda(lambda image: tf.image.resize_images( \n",
    "                image, (input_size, input_size)))(X_input_inception)\n",
    "\n",
    "inp = inception(resized_input)\n",
    "x = GlobalAveragePooling2D()(inp)\n",
    "out = Dense(512, activation = 'relu')(x)\n",
    "predictions = Dense(43, activation = 'softmax')(out)\n"
   ]
  },
  {
   "cell_type": "code",
   "execution_count": null,
   "metadata": {},
   "outputs": [],
   "source": [
    "model = Model(inputs=X_input_inception, outputs=predictions, name='inceptionV3')\n",
    "\n",
    "model.compile(optimizer='Adam', loss='categorical_crossentropy', metrics=['accuracy'])\n",
    "\n",
    "model.fit(X_train, y_train, epochs = 5, batch_size = 32)"
   ]
  },
  {
   "cell_type": "code",
   "execution_count": null,
   "metadata": {},
   "outputs": [],
   "source": [
    "model.summary()"
   ]
  },
  {
   "cell_type": "code",
   "execution_count": null,
   "metadata": {},
   "outputs": [],
   "source": [
    "preds = model.evaluate(X_valid, y_valid)\n",
    "print (\"Loss = \" + str(preds[0]))\n",
    "print (\"Test Accuracy = \" + str(preds[1]*100))"
   ]
  },
  {
   "cell_type": "code",
   "execution_count": null,
   "metadata": {},
   "outputs": [],
   "source": [
    "preds = model.evaluate(X_test, y_test)\n",
    "print (\"Loss = \" + str(preds[0]))\n",
    "print (\"Test Accuracy = \" + str(preds[1]*100))"
   ]
  },
  {
   "cell_type": "code",
   "execution_count": null,
   "metadata": {},
   "outputs": [],
   "source": [
    "model.save(\"model_inception\")"
   ]
  },
  {
   "cell_type": "markdown",
   "metadata": {},
   "source": [
    "---\n",
    "\n",
    "## Test a Model on New Images"
   ]
  },
  {
   "cell_type": "markdown",
   "metadata": {},
   "source": [
    "### Load and Output the Images"
   ]
  },
  {
   "cell_type": "code",
   "execution_count": null,
   "metadata": {},
   "outputs": [],
   "source": [
    "model =  keras.models.load_model('model')"
   ]
  },
  {
   "cell_type": "code",
   "execution_count": null,
   "metadata": {},
   "outputs": [],
   "source": [
    "### Load the images and plot them here.\n",
    "### Feel free to use as many code cells as needed.\n",
    "my_images_reader = sorted(glob.glob('data/mysigns/*.png'))\n",
    "my_images = []\n",
    "for i in my_images_reader:\n",
    "    img = plt.imread(i)\n",
    "    my_images.append(img)\n",
    "    \n",
    "my_images = np.array(my_images)\n",
    "my_labels = [1, 22, 35, 15, 37]\n",
    "display_images(my_images, my_labels, signnames_dict)"
   ]
  },
  {
   "cell_type": "markdown",
   "metadata": {},
   "source": [
    "### Predict the Sign Type for Each Image"
   ]
  },
  {
   "cell_type": "code",
   "execution_count": null,
   "metadata": {},
   "outputs": [],
   "source": [
    "### Run the predictions here and use the model to output the prediction for each image.\n",
    "### Make sure to pre-process the images with the same pre-processing pipeline used earlier.\n",
    "### Feel free to use as many code cells as needed.\n",
    "my_images_gray = np.sum(my_images/3, axis=3, keepdims=True)\n",
    "my_images_gray = my_images_gray/255\n",
    "predicted_labels = []\n",
    "for i in my_images_gray:\n",
    "    i = np.expand_dims(i, axis=0)\n",
    "    prediction = model.predict(i)\n",
    "    predicted_sign = np.argmax(prediction)\n",
    "    predicted_labels.append(predicted_sign)\n",
    "\n",
    "for l in range(len(predicted_labels)):\n",
    "    pred = signnames_dict[str(predicted_labels[l])]\n",
    "    correct = signnames_dict[str(my_labels[l])]\n",
    "    \n",
    "    print(\"prediction: \" + pred + \" || correct label: \" + correct)"
   ]
  },
  {
   "cell_type": "markdown",
   "metadata": {},
   "source": [
    "### Analyze Performance"
   ]
  },
  {
   "cell_type": "code",
   "execution_count": null,
   "metadata": {},
   "outputs": [],
   "source": [
    "### Calculate the accuracy for these 5 new images. \n",
    "### For example, if the model predicted 1 out of 5 signs correctly, it's 20% accurate on these new images.\n",
    "performance = len(set(predicted_labels) & set(my_labels))/len(my_labels) * 100\n",
    "print(\"performance on five user images: \" + str(performance) + '%')\n"
   ]
  },
  {
   "cell_type": "markdown",
   "metadata": {},
   "source": [
    "### Output Top 5 Softmax Probabilities For Each Image Found on the Web"
   ]
  },
  {
   "cell_type": "markdown",
   "metadata": {},
   "source": [
    "For each of the new images, print out the model's softmax probabilities to show the **certainty** of the model's predictions (limit the output to the top 5 probabilities for each image). [`tf.nn.top_k`](https://www.tensorflow.org/versions/r0.12/api_docs/python/nn.html#top_k) could prove helpful here. \n",
    "\n",
    "The example below demonstrates how tf.nn.top_k can be used to find the top k predictions for each image.\n",
    "\n",
    "`tf.nn.top_k` will return the values and indices (class ids) of the top k predictions. So if k=3, for each sign, it'll return the 3 largest probabilities (out of a possible 43) and the correspoding class ids.\n",
    "\n",
    "Take this numpy array as an example. The values in the array represent predictions. The array contains softmax probabilities for five candidate images with six possible classes. `tf.nn.top_k` is used to choose the three classes with the highest probability:\n",
    "\n",
    "```\n",
    "# (5, 6) array\n",
    "a = np.array([[ 0.24879643,  0.07032244,  0.12641572,  0.34763842,  0.07893497,\n",
    "         0.12789202],\n",
    "       [ 0.28086119,  0.27569815,  0.08594638,  0.0178669 ,  0.18063401,\n",
    "         0.15899337],\n",
    "       [ 0.26076848,  0.23664738,  0.08020603,  0.07001922,  0.1134371 ,\n",
    "         0.23892179],\n",
    "       [ 0.11943333,  0.29198961,  0.02605103,  0.26234032,  0.1351348 ,\n",
    "         0.16505091],\n",
    "       [ 0.09561176,  0.34396535,  0.0643941 ,  0.16240774,  0.24206137,\n",
    "         0.09155967]])\n",
    "```\n",
    "\n",
    "Running it through `sess.run(tf.nn.top_k(tf.constant(a), k=3))` produces:\n",
    "\n",
    "```\n",
    "TopKV2(values=array([[ 0.34763842,  0.24879643,  0.12789202],\n",
    "       [ 0.28086119,  0.27569815,  0.18063401],\n",
    "       [ 0.26076848,  0.23892179,  0.23664738],\n",
    "       [ 0.29198961,  0.26234032,  0.16505091],\n",
    "       [ 0.34396535,  0.24206137,  0.16240774]]), indices=array([[3, 0, 5],\n",
    "       [0, 1, 4],\n",
    "       [0, 5, 1],\n",
    "       [1, 3, 5],\n",
    "       [1, 4, 3]], dtype=int32))\n",
    "```\n",
    "\n",
    "Looking just at the first row we get `[ 0.34763842,  0.24879643,  0.12789202]`, you can confirm these are the 3 largest probabilities in `a`. You'll also notice `[3, 0, 5]` are the corresponding indices."
   ]
  },
  {
   "cell_type": "code",
   "execution_count": null,
   "metadata": {},
   "outputs": [],
   "source": [
    "### Print out the top five softmax probabilities for the predictions on the German traffic sign images found on the web. \n",
    "### Feel free to use as many code cells as needed.\n",
    "print(\"correct labels:   \" + str(my_labels))\n",
    "print(\"predicted labels: \" + str(predicted_labels))\n",
    "for i in my_images_gray:\n",
    "    i = np.expand_dims(i, axis=0)\n",
    "    prediction = model.predict(i)\n",
    "    d = tf.nn.top_k(prediction, k=5, sorted=True, name=None)\n",
    "    with tf.Session() as sess:\n",
    "        top_k = sess.run(tf.nn.top_k(tf.constant(prediction), k = 5))\n",
    "        print(\"softmax propabilities: \" + str(top_k.values))\n",
    "        print(\"softmax indices: \" + str(top_k.indices))\n",
    "        print(\"----------------------------\")\n",
    "        \n",
    "    #print(d)\n",
    "    #print(prediction)"
   ]
  },
  {
   "cell_type": "code",
   "execution_count": null,
   "metadata": {},
   "outputs": [],
   "source": [
    "model.summary()"
   ]
  },
  {
   "cell_type": "code",
   "execution_count": null,
   "metadata": {},
   "outputs": [],
   "source": [
    "plot_model(model, to_file='model.png')\n",
    "SVG(model_to_dot(model).create(prog='dot', format='svg'))"
   ]
  },
  {
   "cell_type": "code",
   "execution_count": null,
   "metadata": {},
   "outputs": [],
   "source": []
  }
 ],
 "metadata": {
  "anaconda-cloud": {},
  "kernelspec": {
   "display_name": "Python 3",
   "language": "python",
   "name": "python3"
  },
  "language_info": {
   "codemirror_mode": {
    "name": "ipython",
    "version": 3
   },
   "file_extension": ".py",
   "mimetype": "text/x-python",
   "name": "python",
   "nbconvert_exporter": "python",
   "pygments_lexer": "ipython3",
   "version": "3.6.3"
  }
 },
 "nbformat": 4,
 "nbformat_minor": 1
}
