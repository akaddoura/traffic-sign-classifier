{
 "cells": [
  {
   "cell_type": "markdown",
   "metadata": {},
   "source": [
    "# Self-Driving Car Engineer Nanodegree\n",
    "\n",
    "## Deep Learning\n",
    "\n",
    "## Project: Build a Traffic Sign Recognition Classifier\n",
    "\n",
    "In this notebook, a template is provided for you to implement your functionality in stages, which is required to successfully complete this project. If additional code is required that cannot be included in the notebook, be sure that the Python code is successfully imported and included in your submission if necessary. \n",
    "\n",
    "> **Note**: Once you have completed all of the code implementations, you need to finalize your work by exporting the iPython Notebook as an HTML document. Before exporting the notebook to html, all of the code cells need to have been run so that reviewers can see the final implementation and output. You can then export the notebook by using the menu above and navigating to  \\n\",\n",
    "    \"**File -> Download as -> HTML (.html)**. Include the finished document along with this notebook as your submission. \n",
    "\n",
    "In addition to implementing code, there is a writeup to complete. The writeup should be completed in a separate file, which can be either a markdown file or a pdf document. There is a [write up template](https://github.com/udacity/CarND-Traffic-Sign-Classifier-Project/blob/master/writeup_template.md) that can be used to guide the writing process. Completing the code template and writeup template will cover all of the [rubric points](https://review.udacity.com/#!/rubrics/481/view) for this project.\n",
    "\n",
    "The [rubric](https://review.udacity.com/#!/rubrics/481/view) contains \"Stand Out Suggestions\" for enhancing the project beyond the minimum requirements. The stand out suggestions are optional. If you decide to pursue the \"stand out suggestions\", you can include the code in this Ipython notebook and also discuss the results in the writeup file.\n",
    "\n",
    "\n",
    ">**Note:** Code and Markdown cells can be executed using the **Shift + Enter** keyboard shortcut. In addition, Markdown cells can be edited by typically double-clicking the cell to enter edit mode."
   ]
  },
  {
   "cell_type": "code",
   "execution_count": 3,
   "metadata": {},
   "outputs": [
    {
     "name": "stderr",
     "output_type": "stream",
     "text": [
      "Using TensorFlow backend.\n"
     ]
    }
   ],
   "source": [
    "from sklearn import preprocessing\n",
    "import pickle\n",
    "import numpy as np \n",
    "import matplotlib.pyplot as plt\n",
    "import pandas as pd\n",
    "import sys\n",
    "import tensorflow as tf\n",
    "import csv\n",
    "import glob\n",
    "\n",
    "import keras\n",
    "from keras.layers import Input, Add, Dense, Activation, ZeroPadding2D, BatchNormalization, Flatten, Conv2D, MaxPooling2D\n",
    "from keras.models import Model, load_model\n",
    "from keras.preprocessing import image\n",
    "from keras.utils import layer_utils, to_categorical\n",
    "from IPython.display import SVG\n",
    "from keras.utils.vis_utils import model_to_dot\n",
    "from keras.utils import plot_model\n",
    "from keras.initializers import glorot_uniform\n",
    "\n",
    "import keras.backend as K\n",
    "K.set_image_data_format('channels_last')\n",
    "K.set_learning_phase(1)\n",
    "\n",
    "np.set_printoptions(threshold=sys.maxsize)\n",
    "%matplotlib inline"
   ]
  },
  {
   "cell_type": "markdown",
   "metadata": {},
   "source": [
    "---\n",
    "## Step 0: Load The Data"
   ]
  },
  {
   "cell_type": "code",
   "execution_count": 4,
   "metadata": {},
   "outputs": [],
   "source": [
    "# Load pickled data\n",
    "import pickle\n",
    "\n",
    "# TODO: Fill this in based on where you saved the training and testing data\n",
    "\n",
    "training_file = \"data/train.p\"\n",
    "validation_file= \"data/valid.p\"\n",
    "testing_file = \"data/test.p\"\n",
    "signnames_file = \"signnames.csv\"\n",
    "\n",
    "with open(training_file, mode='rb') as f:\n",
    "    train = pickle.load(f)\n",
    "with open(validation_file, mode='rb') as f:\n",
    "    valid = pickle.load(f)\n",
    "with open(testing_file, mode='rb') as f:\n",
    "    test = pickle.load(f)\n",
    "with open(signnames_file, mode='r') as data:\n",
    "    reader = csv.reader(data)\n",
    "    next(reader)\n",
    "    signnames_dict = dict(reader)  # pull in each row as a key-value pair\n",
    "    \n",
    "X_train, y_train = train['features'], train['labels']\n",
    "X_valid, y_valid = valid['features'], valid['labels']\n",
    "X_test, y_test = test['features'], test['labels']"
   ]
  },
  {
   "cell_type": "markdown",
   "metadata": {},
   "source": [
    "---\n",
    "\n",
    "## Step 1: Dataset Summary & Exploration\n",
    "\n",
    "The pickled data is a dictionary with 4 key/value pairs:\n",
    "\n",
    "- `'features'` is a 4D array containing raw pixel data of the traffic sign images, (num examples, width, height, channels).\n",
    "- `'labels'` is a 1D array containing the label/class id of the traffic sign. The file `signnames.csv` contains id -> name mappings for each id.\n",
    "- `'sizes'` is a list containing tuples, (width, height) representing the original width and height the image.\n",
    "- `'coords'` is a list containing tuples, (x1, y1, x2, y2) representing coordinates of a bounding box around the sign in the image. **THESE COORDINATES ASSUME THE ORIGINAL IMAGE. THE PICKLED DATA CONTAINS RESIZED VERSIONS (32 by 32) OF THESE IMAGES**\n",
    "\n",
    "Complete the basic data summary below. Use python, numpy and/or pandas methods to calculate the data summary rather than hard coding the results. For example, the [pandas shape method](http://pandas.pydata.org/pandas-docs/stable/generated/pandas.DataFrame.shape.html) might be useful for calculating some of the summary results. "
   ]
  },
  {
   "cell_type": "markdown",
   "metadata": {},
   "source": [
    "### Provide a Basic Summary of the Data Set Using Python, Numpy and/or Pandas"
   ]
  },
  {
   "cell_type": "code",
   "execution_count": 5,
   "metadata": {},
   "outputs": [
    {
     "name": "stdout",
     "output_type": "stream",
     "text": [
      "Number of training examples = 34799\n",
      "Number of testing examples = 12630\n",
      "Image data shape = (32, 32, 3)\n",
      "Number of classes = 43\n"
     ]
    }
   ],
   "source": [
    "### Replace each question mark with the appropriate value. \n",
    "### Use python, pandas or numpy methods rather than hard coding the results\n",
    "\n",
    "# TODO: Number of training examples\n",
    "n_train = y_train.shape[0]\n",
    "\n",
    "# TODO: Number of validation examples\n",
    "n_validation = y_valid.shape[0]\n",
    "\n",
    "# TODO: Number of testing examples.\n",
    "n_test = y_test.shape[0]\n",
    "\n",
    "# TODO: What's the shape of an traffic sign image?\n",
    "image_shape = (X_train.shape[1], X_train.shape[2], X_train.shape[3])\n",
    "\n",
    "# TODO: How many unique classes/labels there are in the dataset.\n",
    "n_classes = len(np.unique(y_train))\n",
    "\n",
    "print(\"Number of training examples =\", n_train)\n",
    "print(\"Number of testing examples =\", n_test)\n",
    "print(\"Image data shape =\", image_shape)\n",
    "print(\"Number of classes =\", n_classes)"
   ]
  },
  {
   "cell_type": "markdown",
   "metadata": {},
   "source": [
    "### Include an exploratory visualization of the dataset"
   ]
  },
  {
   "cell_type": "markdown",
   "metadata": {},
   "source": [
    "Visualize the German Traffic Signs Dataset using the pickled file(s). This is open ended, suggestions include: plotting traffic sign images, plotting the count of each sign, etc. \n",
    "\n",
    "The [Matplotlib](http://matplotlib.org/) [examples](http://matplotlib.org/examples/index.html) and [gallery](http://matplotlib.org/gallery.html) pages are a great resource for doing visualizations in Python.\n",
    "\n",
    "**NOTE:** It's recommended you start with something simple first. If you wish to do more, come back to it after you've completed the rest of the sections. It can be interesting to look at the distribution of classes in the training, validation and test set. Is the distribution the same? Are there more examples of some classes than others?"
   ]
  },
  {
   "cell_type": "code",
   "execution_count": 6,
   "metadata": {},
   "outputs": [],
   "source": [
    "def shuffle(batch, seed = 0):\n",
    "    m = batch.shape[0]\n",
    "    np.random.seed(seed)\n",
    "    permutation = list(np.random.permutation(m))\n",
    "    shuffled_batch = batch[permutation]\n",
    "    return shuffled_batch, permutation"
   ]
  },
  {
   "cell_type": "code",
   "execution_count": 7,
   "metadata": {},
   "outputs": [],
   "source": [
    "def shuffle_both(batch_1, batch_2, seed = 0):\n",
    "    m = batch_1.shape[0]\n",
    "    np.random.seed(seed)\n",
    "    permutation = list(np.random.permutation(m))\n",
    "    shuffled_batch_1 = batch_1[permutation]\n",
    "    shuffled_batch_2 = batch_2[permutation]\n",
    "    return shuffled_batch_1, shuffled_batch_2"
   ]
  },
  {
   "cell_type": "code",
   "execution_count": 8,
   "metadata": {},
   "outputs": [],
   "source": [
    "def create_random_mini_batch(batch, n, seed = 0):\n",
    "    np.random.seed(seed)\n",
    "    shuffled_batch, permutation = shuffle(batch, seed = seed)\n",
    "    m = shuffled_batch.shape[0]\n",
    "    ind = np.random.randint(m-n)\n",
    "    mini_batch = shuffled_batch[ind:ind+n]\n",
    "    indices = permutation[ind:ind+n]\n",
    "    return mini_batch, indices"
   ]
  },
  {
   "cell_type": "code",
   "execution_count": 9,
   "metadata": {},
   "outputs": [],
   "source": [
    "def display_images(images, labels, signnames_dict):\n",
    "    '''\n",
    "    This function will display images in a grid set by the sizes of c and r.\n",
    "    The number of rows and columns must be high enough to accomdate the\n",
    "    number of images \n",
    "    :param images: list of images to be shown in the grid\n",
    "    :param c: number of columns in the grid\n",
    "    :param r: number of rows in the grid\n",
    "    :return: displays images as per the plt.show() function\n",
    "    '''\n",
    "    # Visualize transformation\n",
    "    w = 14\n",
    "    h = 14\n",
    "    axes = []\n",
    "    fig = plt.figure(figsize=(w, h))\n",
    "    columns = 3\n",
    "    rows = len(images)//columns + 1\n",
    "    \n",
    "    for i in range(1, len(images) + 1):\n",
    "        img = images[i-1]\n",
    "        axes.append(fig.add_subplot(rows, columns, i))\n",
    "        subplot_title = signnames_dict[str(labels[i-1])]\n",
    "        axes[-1].set_title(subplot_title)\n",
    "        plt.imshow(img,  cmap = plt.cm.gray)\n",
    "    plt.show()"
   ]
  },
  {
   "cell_type": "code",
   "execution_count": 10,
   "metadata": {
    "scrolled": false
   },
   "outputs": [
    {
     "data": {
      "image/png": "[encoded data removed]",
      "text/plain": [
       "<matplotlib.figure.Figure at 0x7fc8bcb231d0>"
      ]
     },
     "metadata": {
      "needs_background": "light"
     },
     "output_type": "display_data"
    }
   ],
   "source": [
    "# Display\n",
    "seed = np.random.randint(1000)\n",
    "\n",
    "display_number = 9\n",
    "mini_batch, indices = create_random_mini_batch(X_train, n = display_number, seed = seed)\n",
    "labels = list(y_train[indices])\n",
    "display_images(mini_batch, labels, signnames_dict)"
   ]
  },
  {
   "cell_type": "markdown",
   "metadata": {},
   "source": [
    "----\n",
    "\n",
    "## Step 2: Design and Test a Model Architecture\n",
    "\n",
    "Design and implement a deep learning model that learns to recognize traffic signs. Train and test your model on the [German Traffic Sign Dataset](http://benchmark.ini.rub.de/?section=gtsrb&subsection=dataset).\n",
    "\n",
    "The LeNet-5 implementation shown in the [classroom](https://classroom.udacity.com/nanodegrees/nd013/parts/fbf77062-5703-404e-b60c-95b78b2f3f9e/modules/6df7ae49-c61c-4bb2-a23e-6527e69209ec/lessons/601ae704-1035-4287-8b11-e2c2716217ad/concepts/d4aca031-508f-4e0b-b493-e7b706120f81) at the end of the CNN lesson is a solid starting point. You'll have to change the number of classes and possibly the preprocessing, but aside from that it's plug and play! \n",
    "\n",
    "With the LeNet-5 solution from the lecture, you should expect a validation set accuracy of about 0.89. To meet specifications, the validation set accuracy will need to be at least 0.93. It is possible to get an even higher accuracy, but 0.93 is the minimum for a successful project submission. \n",
    "\n",
    "There are various aspects to consider when thinking about this problem:\n",
    "\n",
    "- Neural network architecture (is the network over or underfitting?)\n",
    "- Play around preprocessing techniques (normalization, rgb to grayscale, etc)\n",
    "- Number of examples per label (some have more than others).\n",
    "- Generate fake data.\n",
    "\n",
    "Here is an example of a [published baseline model on this problem](http://yann.lecun.com/exdb/publis/pdf/sermanet-ijcnn-11.pdf). It's not required to be familiar with the approach used in the paper but, it's good practice to try to read papers like these."
   ]
  },
  {
   "cell_type": "markdown",
   "metadata": {},
   "source": [
    "### Pre-process the Data Set (normalization, grayscale, etc.)"
   ]
  },
  {
   "cell_type": "markdown",
   "metadata": {},
   "source": [
    "Minimally, the image data should be normalized so that the data has mean zero and equal variance. For image data, `(pixel - 128)/ 128` is a quick way to approximately normalize the data and can be used in this project. \n",
    "\n",
    "Other pre-processing steps are optional. You can try different techniques to see if it improves performance. \n",
    "\n",
    "Use the code cell (or multiple code cells, if necessary) to implement the first step of your project."
   ]
  },
  {
   "cell_type": "code",
   "execution_count": 11,
   "metadata": {},
   "outputs": [],
   "source": [
    "### Preprocess the data here. It is required to normalize the data. Other preprocessing steps could include \n",
    "### converting to grayscale, etc.\n",
    "### Feel free to use as many code cells as needed.\n",
    "\n",
    "seed = np.random.randint(100000)\n",
    "X_train, y_train = shuffle_both(X_train, y_train, seed = seed)\n",
    "\n",
    "X_train_gray = np.sum(X_train/3, axis=3, keepdims=True)\n",
    "X_valid_gray = np.sum(X_valid/3, axis=3, keepdims=True)\n",
    "X_test_gray = np.sum(X_test/3, axis=3, keepdims=True)\n",
    "\n",
    "X_train_gray = X_train_gray/255 \n",
    "X_valid_gray = X_valid_gray/255\n",
    "X_test_gray = X_test_gray/255\n",
    "\n",
    "y_train = to_categorical(y_train, 43)\n",
    "y_valid = to_categorical(y_valid, 43)\n",
    "y_test = to_categorical(y_test, 43)"
   ]
  },
  {
   "cell_type": "code",
   "execution_count": 12,
   "metadata": {},
   "outputs": [
    {
     "name": "stdout",
     "output_type": "stream",
     "text": [
      "number of training examples = 34799\n",
      "number of valid examples = 4410\n",
      "X_train shape: (34799, 32, 32, 1)\n",
      "Y_train shape: (34799, 43)\n",
      "X_valid shape: (4410, 32, 32, 1)\n",
      "Y_valid shape: (4410, 43)\n",
      "X_test shape: (12630, 32, 32, 1)\n",
      "Y_test shape: (12630, 43)\n"
     ]
    }
   ],
   "source": [
    "print (\"number of training examples = \" + str(X_train.shape[0]))\n",
    "print (\"number of valid examples = \" + str(X_valid.shape[0]))\n",
    "print (\"X_train shape: \" + str(X_train_gray.shape))\n",
    "print (\"Y_train shape: \" + str(y_train.shape))\n",
    "print (\"X_valid shape: \" + str(X_valid_gray.shape))\n",
    "print (\"Y_valid shape: \" + str(y_valid.shape))\n",
    "print (\"X_test shape: \" + str(X_test_gray.shape))\n",
    "print (\"Y_test shape: \" + str(y_test.shape))"
   ]
  },
  {
   "cell_type": "markdown",
   "metadata": {},
   "source": [
    "### Model Architecture"
   ]
  },
  {
   "cell_type": "code",
   "execution_count": 13,
   "metadata": {},
   "outputs": [],
   "source": [
    "### Define your architecture here.\n",
    "### Feel free to use as many code cells as needed.\n",
    "def lenet(input_shape = (32, 32, 3), classes = 43, seed = 0):\n",
    "    \"\"\"\n",
    "    Implementation of the popular ResNet50 the following architecture:\n",
    "    CONV2D -> BATCHNORM -> RELU -> MAXPOOL -> CONVBLOCK -> IDBLOCK*2 -> CONVBLOCK -> IDBLOCK*3\n",
    "    -> CONVBLOCK -> IDBLOCK*5 -> CONVBLOCK -> IDBLOCK*2 -> AVGPOOL -> TOPLAYER\n",
    "\n",
    "    Arguments:\n",
    "    input_shape -- shape of the images of the dataset\n",
    "    classes -- integer, number of classes\n",
    "\n",
    "    Returns:\n",
    "    model -- a Model() instance in Keras\n",
    "    \"\"\"\n",
    "    \n",
    "    # Zero Padding\n",
    "    X_input = Input(shape=input_shape)\n",
    "    \n",
    "    X = X_input\n",
    "    X = Conv2D(6, (5, 5), strides = (1, 1), name = 'conv1')(X)\n",
    "    X = BatchNormalization(axis = 3, name = 'bn_conv1')(X)\n",
    "    X = Activation('relu')(X)\n",
    "    X = MaxPooling2D((2,2), strides=(2,2))(X)\n",
    "    \n",
    "    X = Conv2D(16, (5, 5), strides = (1, 1), name = 'conv2')(X)\n",
    "    X = BatchNormalization(axis = 3, name = 'bn_conv2')(X)\n",
    "    X = Activation('relu')(X)\n",
    "    X = MaxPooling2D((2,2), strides=(2,2))(X)\n",
    "\n",
    "    X = Flatten()(X)\n",
    "    X = Dense(120, activation='relu', name='fc1')(X)\n",
    "    X = Dense(84, activation='relu', name='fc2')(X)\n",
    "    X = Dense(classes, activation='softmax', name='fc3')(X)\n",
    "\n",
    "    # create model\n",
    "    model = Model(inputs=X_input, outputs=X, name='LeNet-5')\n",
    "    \n",
    "    return model"
   ]
  },
  {
   "cell_type": "markdown",
   "metadata": {},
   "source": [
    "### Train, Validate and Test the Model"
   ]
  },
  {
   "cell_type": "markdown",
   "metadata": {},
   "source": [
    "A validation set can be used to assess how well the model is performing. A low accuracy on the training and validation\n",
    "sets imply underfitting. A high accuracy on the training set but low accuracy on the validation set implies overfitting."
   ]
  },
  {
   "cell_type": "code",
   "execution_count": 14,
   "metadata": {},
   "outputs": [],
   "source": [
    "### Train your model here.\n",
    "### Calculate and report the accuracy on the training and validation set.\n",
    "### Once a final model architecture is selected, \n",
    "### the accuracy on the test set should be calculated and reported as well.\n",
    "### Feel free to use as many code cells as needed.\n",
    "seed = np.random.randint(1000)\n",
    "model = lenet(input_shape = (32, 32, 1), classes = 43, seed = seed)\n",
    "model.compile(optimizer='adam', loss='categorical_crossentropy', metrics=['accuracy'])"
   ]
  },
  {
   "cell_type": "code",
   "execution_count": 36,
   "metadata": {
    "scrolled": false
   },
   "outputs": [
    {
     "name": "stdout",
     "output_type": "stream",
     "text": [
      "Epoch 1/30\n",
      "34799/34799 [==============================] - 4s 124us/step - loss: 1.2375 - acc: 0.6838\n",
      "Epoch 2/30\n",
      "34799/34799 [==============================] - 4s 115us/step - loss: 0.2348 - acc: 0.9413\n",
      "Epoch 3/30\n",
      "34799/34799 [==============================] - 4s 115us/step - loss: 0.1302 - acc: 0.9691\n",
      "Epoch 4/30\n",
      "34799/34799 [==============================] - 4s 114us/step - loss: 0.0931 - acc: 0.9774\n",
      "Epoch 5/30\n",
      "34799/34799 [==============================] - 4s 114us/step - loss: 0.0649 - acc: 0.9849\n",
      "Epoch 6/30\n",
      "34799/34799 [==============================] - 4s 113us/step - loss: 0.0452 - acc: 0.9899\n",
      "Epoch 7/30\n",
      "34799/34799 [==============================] - 4s 113us/step - loss: 0.0448 - acc: 0.9894\n",
      "Epoch 8/30\n",
      "34799/34799 [==============================] - 4s 112us/step - loss: 0.0357 - acc: 0.9906\n",
      "Epoch 9/30\n",
      "34799/34799 [==============================] - 4s 112us/step - loss: 0.0265 - acc: 0.9932\n",
      "Epoch 10/30\n",
      "34799/34799 [==============================] - 4s 112us/step - loss: 0.0281 - acc: 0.9927\n",
      "Epoch 11/30\n",
      "34799/34799 [==============================] - 4s 112us/step - loss: 0.0297 - acc: 0.9916\n",
      "Epoch 12/30\n",
      "34799/34799 [==============================] - 4s 112us/step - loss: 0.0258 - acc: 0.9930\n",
      "Epoch 13/30\n",
      "34799/34799 [==============================] - 4s 112us/step - loss: 0.0216 - acc: 0.9939\n",
      "Epoch 14/30\n",
      "34799/34799 [==============================] - 4s 112us/step - loss: 0.0130 - acc: 0.9965\n",
      "Epoch 15/30\n",
      "34799/34799 [==============================] - 4s 112us/step - loss: 0.0118 - acc: 0.9970\n",
      "Epoch 16/30\n",
      "34799/34799 [==============================] - 4s 112us/step - loss: 0.0182 - acc: 0.9947\n",
      "Epoch 17/30\n",
      "34799/34799 [==============================] - 4s 112us/step - loss: 0.0181 - acc: 0.9949\n",
      "Epoch 18/30\n",
      "34799/34799 [==============================] - 4s 112us/step - loss: 0.0219 - acc: 0.9931\n",
      "Epoch 19/30\n",
      "34799/34799 [==============================] - 4s 112us/step - loss: 0.0134 - acc: 0.9962\n",
      "Epoch 20/30\n",
      "34799/34799 [==============================] - 4s 112us/step - loss: 0.0043 - acc: 0.9990\n",
      "Epoch 21/30\n",
      "34799/34799 [==============================] - 4s 112us/step - loss: 0.0070 - acc: 0.9981\n",
      "Epoch 22/30\n",
      "34799/34799 [==============================] - 4s 112us/step - loss: 0.0299 - acc: 0.9911\n",
      "Epoch 23/30\n",
      "34799/34799 [==============================] - 4s 112us/step - loss: 0.0149 - acc: 0.9961\n",
      "Epoch 24/30\n",
      "34799/34799 [==============================] - 4s 112us/step - loss: 0.0027 - acc: 0.9996\n",
      "Epoch 25/30\n",
      "34799/34799 [==============================] - 4s 112us/step - loss: 0.0068 - acc: 0.9981\n",
      "Epoch 26/30\n",
      "34799/34799 [==============================] - 4s 112us/step - loss: 0.0301 - acc: 0.9917\n",
      "Epoch 27/30\n",
      "34799/34799 [==============================] - 4s 112us/step - loss: 0.0194 - acc: 0.9941\n",
      "Epoch 28/30\n",
      "34799/34799 [==============================] - 4s 112us/step - loss: 0.0064 - acc: 0.9982\n",
      "Epoch 29/30\n",
      "34799/34799 [==============================] - 4s 112us/step - loss: 0.0016 - acc: 0.9997\n",
      "Epoch 30/30\n",
      "34799/34799 [==============================] - 4s 112us/step - loss: 0.0012 - acc: 0.9999\n"
     ]
    },
    {
     "data": {
      "text/plain": [
       "<keras.callbacks.History at 0x7f2888fb1e10>"
      ]
     },
     "execution_count": 36,
     "metadata": {},
     "output_type": "execute_result"
    }
   ],
   "source": [
    "model.fit(X_train_gray, y_train, epochs = 30, batch_size = 128)"
   ]
  },
  {
   "cell_type": "code",
   "execution_count": 15,
   "metadata": {},
   "outputs": [],
   "source": [
    "model =  keras.models.load_model('model')"
   ]
  },
  {
   "cell_type": "code",
   "execution_count": 16,
   "metadata": {
    "scrolled": true
   },
   "outputs": [
    {
     "name": "stdout",
     "output_type": "stream",
     "text": [
      "4410/4410 [==============================] - 4s 877us/step\n",
      "Loss = 0.353493301266\n",
      "Test Accuracy = 94.9886621153\n"
     ]
    }
   ],
   "source": [
    "preds = model.evaluate(X_valid_gray, y_valid)\n",
    "print (\"Loss = \" + str(preds[0]))\n",
    "print (\"Test Accuracy = \" + str(preds[1]*100))"
   ]
  },
  {
   "cell_type": "code",
   "execution_count": 17,
   "metadata": {},
   "outputs": [
    {
     "name": "stdout",
     "output_type": "stream",
     "text": [
      "12630/12630 [==============================] - 11s 852us/step\n",
      "Loss = 0.526835071145\n",
      "Test Accuracy = 93.2462391094\n"
     ]
    }
   ],
   "source": [
    "preds = model.evaluate(X_test_gray, y_test)\n",
    "print (\"Loss = \" + str(preds[0]))\n",
    "print (\"Test Accuracy = \" + str(preds[1]*100))"
   ]
  },
  {
   "cell_type": "code",
   "execution_count": 46,
   "metadata": {},
   "outputs": [],
   "source": [
    "model.save(\"model\")"
   ]
  },
  {
   "cell_type": "markdown",
   "metadata": {},
   "source": [
    "---\n",
    "\n",
    "## Step 3: Test a Model on New Images\n",
    "\n",
    "To give yourself more insight into how your model is working, download at least five pictures of German traffic signs from the web and use your model to predict the traffic sign type.\n",
    "\n",
    "You may find `signnames.csv` useful as it contains mappings from the class id (integer) to the actual sign name."
   ]
  },
  {
   "cell_type": "markdown",
   "metadata": {},
   "source": [
    "### Load and Output the Images"
   ]
  },
  {
   "cell_type": "code",
   "execution_count": 18,
   "metadata": {},
   "outputs": [],
   "source": [
    "model =  keras.models.load_model('model')"
   ]
  },
  {
   "cell_type": "code",
   "execution_count": 19,
   "metadata": {},
   "outputs": [
    {
     "data": {
      "image/png": "[encoded data removed]",
      "text/plain": [
       "<matplotlib.figure.Figure at 0x7fc8bc215278>"
      ]
     },
     "metadata": {
      "needs_background": "light"
     },
     "output_type": "display_data"
    }
   ],
   "source": [
    "### Load the images and plot them here.\n",
    "### Feel free to use as many code cells as needed.\n",
    "my_images_reader = sorted(glob.glob('data/mysigns/*.png'))\n",
    "my_images = []\n",
    "for i in my_images_reader:\n",
    "    img = plt.imread(i)\n",
    "    my_images.append(img)\n",
    "    \n",
    "my_images = np.array(my_images)\n",
    "my_labels = [1, 22, 35, 15, 37]\n",
    "display_images(my_images, my_labels, signnames_dict)"
   ]
  },
  {
   "cell_type": "markdown",
   "metadata": {},
   "source": [
    "### Predict the Sign Type for Each Image"
   ]
  },
  {
   "cell_type": "code",
   "execution_count": 20,
   "metadata": {},
   "outputs": [
    {
     "name": "stdout",
     "output_type": "stream",
     "text": [
      "prediction: Speed limit (30km/h) || correct label: Speed limit (30km/h)\n",
      "prediction: General caution || correct label: Bumpy road\n",
      "prediction: Ahead only || correct label: Ahead only\n",
      "prediction: Priority road || correct label: No vehicles\n",
      "prediction: Go straight or left || correct label: Go straight or left\n"
     ]
    }
   ],
   "source": [
    "### Run the predictions here and use the model to output the prediction for each image.\n",
    "### Make sure to pre-process the images with the same pre-processing pipeline used earlier.\n",
    "### Feel free to use as many code cells as needed.\n",
    "my_images_gray = np.sum(my_images/3, axis=3, keepdims=True)\n",
    "my_images_gray = my_images_gray/255\n",
    "predicted_labels = []\n",
    "for i in my_images_gray:\n",
    "    i = np.expand_dims(i, axis=0)\n",
    "    prediction = model.predict(i)\n",
    "    predicted_sign = np.argmax(prediction)\n",
    "    predicted_labels.append(predicted_sign)\n",
    "\n",
    "for l in range(len(predicted_labels)):\n",
    "    pred = signnames_dict[str(predicted_labels[l])]\n",
    "    correct = signnames_dict[str(my_labels[l])]\n",
    "    \n",
    "    print(\"prediction: \" + pred + \" || correct label: \" + correct)"
   ]
  },
  {
   "cell_type": "markdown",
   "metadata": {},
   "source": [
    "### Analyze Performance"
   ]
  },
  {
   "cell_type": "code",
   "execution_count": 21,
   "metadata": {},
   "outputs": [
    {
     "name": "stdout",
     "output_type": "stream",
     "text": [
      "performance on five user images: 60.0%\n"
     ]
    }
   ],
   "source": [
    "### Calculate the accuracy for these 5 new images. \n",
    "### For example, if the model predicted 1 out of 5 signs correctly, it's 20% accurate on these new images.\n",
    "performance = len(set(predicted_labels) & set(my_labels))/len(my_labels) * 100\n",
    "print(\"performance on five user images: \" + str(performance) + '%')\n"
   ]
  },
  {
   "cell_type": "markdown",
   "metadata": {},
   "source": [
    "### Output Top 5 Softmax Probabilities For Each Image Found on the Web"
   ]
  },
  {
   "cell_type": "markdown",
   "metadata": {},
   "source": [
    "For each of the new images, print out the model's softmax probabilities to show the **certainty** of the model's predictions (limit the output to the top 5 probabilities for each image). [`tf.nn.top_k`](https://www.tensorflow.org/versions/r0.12/api_docs/python/nn.html#top_k) could prove helpful here. \n",
    "\n",
    "The example below demonstrates how tf.nn.top_k can be used to find the top k predictions for each image.\n",
    "\n",
    "`tf.nn.top_k` will return the values and indices (class ids) of the top k predictions. So if k=3, for each sign, it'll return the 3 largest probabilities (out of a possible 43) and the correspoding class ids.\n",
    "\n",
    "Take this numpy array as an example. The values in the array represent predictions. The array contains softmax probabilities for five candidate images with six possible classes. `tf.nn.top_k` is used to choose the three classes with the highest probability:\n",
    "\n",
    "```\n",
    "# (5, 6) array\n",
    "a = np.array([[ 0.24879643,  0.07032244,  0.12641572,  0.34763842,  0.07893497,\n",
    "         0.12789202],\n",
    "       [ 0.28086119,  0.27569815,  0.08594638,  0.0178669 ,  0.18063401,\n",
    "         0.15899337],\n",
    "       [ 0.26076848,  0.23664738,  0.08020603,  0.07001922,  0.1134371 ,\n",
    "         0.23892179],\n",
    "       [ 0.11943333,  0.29198961,  0.02605103,  0.26234032,  0.1351348 ,\n",
    "         0.16505091],\n",
    "       [ 0.09561176,  0.34396535,  0.0643941 ,  0.16240774,  0.24206137,\n",
    "         0.09155967]])\n",
    "```\n",
    "\n",
    "Running it through `sess.run(tf.nn.top_k(tf.constant(a), k=3))` produces:\n",
    "\n",
    "```\n",
    "TopKV2(values=array([[ 0.34763842,  0.24879643,  0.12789202],\n",
    "       [ 0.28086119,  0.27569815,  0.18063401],\n",
    "       [ 0.26076848,  0.23892179,  0.23664738],\n",
    "       [ 0.29198961,  0.26234032,  0.16505091],\n",
    "       [ 0.34396535,  0.24206137,  0.16240774]]), indices=array([[3, 0, 5],\n",
    "       [0, 1, 4],\n",
    "       [0, 5, 1],\n",
    "       [1, 3, 5],\n",
    "       [1, 4, 3]], dtype=int32))\n",
    "```\n",
    "\n",
    "Looking just at the first row we get `[ 0.34763842,  0.24879643,  0.12789202]`, you can confirm these are the 3 largest probabilities in `a`. You'll also notice `[3, 0, 5]` are the corresponding indices."
   ]
  },
  {
   "cell_type": "code",
   "execution_count": 22,
   "metadata": {},
   "outputs": [
    {
     "name": "stdout",
     "output_type": "stream",
     "text": [
      "correct labels:   [1, 22, 35, 15, 37]\n",
      "predicted labels: [1, 18, 35, 12, 37]\n",
      "softmax propabilities: [[  9.68968451e-01   2.42639668e-02   5.72419912e-03   1.00884261e-03\n",
      "    2.26735901e-05]]\n",
      "softmax indices: [[ 1 40  0 11 21]]\n",
      "----------------------------\n",
      "softmax propabilities: [[ 0.96857262  0.02017878  0.00582511  0.00173524  0.00166605]]\n",
      "softmax indices: [[18 26 22 20 29]]\n",
      "----------------------------\n",
      "softmax propabilities: [[ 0.87520444  0.06864772  0.01504244  0.01327465  0.00573052]]\n",
      "softmax indices: [[35  9 40 15 12]]\n",
      "----------------------------\n",
      "softmax propabilities: [[ 0.78527117  0.12316429  0.0403613   0.03349018  0.00679407]]\n",
      "softmax indices: [[12 40 32 15 35]]\n",
      "----------------------------\n",
      "softmax propabilities: [[  9.99319673e-01   3.77239077e-04   1.73904045e-04   1.10524539e-04\n",
      "    9.85963834e-06]]\n",
      "softmax indices: [[37 40 39 26 17]]\n",
      "----------------------------\n"
     ]
    }
   ],
   "source": [
    "### Print out the top five softmax probabilities for the predictions on the German traffic sign images found on the web. \n",
    "### Feel free to use as many code cells as needed.\n",
    "print(\"correct labels:   \" + str(my_labels))\n",
    "print(\"predicted labels: \" + str(predicted_labels))\n",
    "for i in my_images_gray:\n",
    "    i = np.expand_dims(i, axis=0)\n",
    "    prediction = model.predict(i)\n",
    "    d = tf.nn.top_k(prediction, k=5, sorted=True, name=None)\n",
    "    with tf.Session() as sess:\n",
    "        top_k = sess.run(tf.nn.top_k(tf.constant(prediction), k = 5))\n",
    "        print(\"softmax propabilities: \" + str(top_k.values))\n",
    "        print(\"softmax indices: \" + str(top_k.indices))\n",
    "        print(\"----------------------------\")\n",
    "        \n",
    "    #print(d)\n",
    "    #print(prediction)"
   ]
  },
  {
   "cell_type": "code",
   "execution_count": 23,
   "metadata": {},
   "outputs": [
    {
     "name": "stdout",
     "output_type": "stream",
     "text": [
      "_________________________________________________________________\n",
      "Layer (type)                 Output Shape              Param #   \n",
      "=================================================================\n",
      "input_2 (InputLayer)         (None, 32, 32, 1)         0         \n",
      "_________________________________________________________________\n",
      "conv1 (Conv2D)               (None, 28, 28, 6)         156       \n",
      "_________________________________________________________________\n",
      "bn_conv1 (BatchNormalization (None, 28, 28, 6)         24        \n",
      "_________________________________________________________________\n",
      "activation_3 (Activation)    (None, 28, 28, 6)         0         \n",
      "_________________________________________________________________\n",
      "max_pooling2d_3 (MaxPooling2 (None, 14, 14, 6)         0         \n",
      "_________________________________________________________________\n",
      "conv2 (Conv2D)               (None, 10, 10, 16)        2416      \n",
      "_________________________________________________________________\n",
      "bn_conv2 (BatchNormalization (None, 10, 10, 16)        64        \n",
      "_________________________________________________________________\n",
      "activation_4 (Activation)    (None, 10, 10, 16)        0         \n",
      "_________________________________________________________________\n",
      "max_pooling2d_4 (MaxPooling2 (None, 5, 5, 16)          0         \n",
      "_________________________________________________________________\n",
      "flatten_2 (Flatten)          (None, 400)               0         \n",
      "_________________________________________________________________\n",
      "fc1 (Dense)                  (None, 120)               48120     \n",
      "_________________________________________________________________\n",
      "fc2 (Dense)                  (None, 84)                10164     \n",
      "_________________________________________________________________\n",
      "fc3 (Dense)                  (None, 43)                3655      \n",
      "=================================================================\n",
      "Total params: 64,599\n",
      "Trainable params: 64,555\n",
      "Non-trainable params: 44\n",
      "_________________________________________________________________\n"
     ]
    }
   ],
   "source": [
    "model.summary()"
   ]
  },
  {
   "cell_type": "code",
   "execution_count": 24,
   "metadata": {},
   "outputs": [
    {
     "data": {
      "image/svg+xml": [
       "<svg height=\"921pt\" viewBox=\"0.00 0.00 262.00 921.00\" width=\"262pt\" xmlns=\"http://www.w3.org/2000/svg\" xmlns:xlink=\"http://www.w3.org/1999/xlink\">\n",
       "<g class=\"graph\" id=\"graph0\" transform=\"scale(1 1) rotate(0) translate(4 917)\">\n",
       "<title>G</title>\n",
       "<polygon fill=\"white\" points=\"-4,4 -4,-917 258,-917 258,4 -4,4\" stroke=\"none\"/>\n",
       "<!-- 140500132559000 -->\n",
       "<g class=\"node\" id=\"node1\"><title>140500132559000</title>\n",
       "<polygon fill=\"none\" points=\"47,-876.5 47,-912.5 207,-912.5 207,-876.5 47,-876.5\" stroke=\"black\"/>\n",
       "<text font-family=\"Times,serif\" font-size=\"14.00\" text-anchor=\"middle\" x=\"127\" y=\"-890.8\">input_2: InputLayer</text>\n",
       "</g>\n",
       "<!-- 140500132558328 -->\n",
       "<g class=\"node\" id=\"node2\"><title>140500132558328</title>\n",
       "<polygon fill=\"none\" points=\"64.5,-803.5 64.5,-839.5 189.5,-839.5 189.5,-803.5 64.5,-803.5\" stroke=\"black\"/>\n",
       "<text font-family=\"Times,serif\" font-size=\"14.00\" text-anchor=\"middle\" x=\"127\" y=\"-817.8\">conv1: Conv2D</text>\n",
       "</g>\n",
       "<!-- 140500132559000&#45;&gt;140500132558328 -->\n",
       "<g class=\"edge\" id=\"edge1\"><title>140500132559000-&gt;140500132558328</title>\n",
       "<path d=\"M127,-876.313C127,-868.289 127,-858.547 127,-849.569\" fill=\"none\" stroke=\"black\"/>\n",
       "<polygon fill=\"black\" points=\"130.5,-849.529 127,-839.529 123.5,-849.529 130.5,-849.529\" stroke=\"black\"/>\n",
       "</g>\n",
       "<!-- 140500132560232 -->\n",
       "<g class=\"node\" id=\"node3\"><title>140500132560232</title>\n",
       "<polygon fill=\"none\" points=\"8,-730.5 8,-766.5 246,-766.5 246,-730.5 8,-730.5\" stroke=\"black\"/>\n",
       "<text font-family=\"Times,serif\" font-size=\"14.00\" text-anchor=\"middle\" x=\"127\" y=\"-744.8\">bn_conv1: BatchNormalization</text>\n",
       "</g>\n",
       "<!-- 140500132558328&#45;&gt;140500132560232 -->\n",
       "<g class=\"edge\" id=\"edge2\"><title>140500132558328-&gt;140500132560232</title>\n",
       "<path d=\"M127,-803.313C127,-795.289 127,-785.547 127,-776.569\" fill=\"none\" stroke=\"black\"/>\n",
       "<polygon fill=\"black\" points=\"130.5,-776.529 127,-766.529 123.5,-776.529 130.5,-776.529\" stroke=\"black\"/>\n",
       "</g>\n",
       "<!-- 140500132559952 -->\n",
       "<g class=\"node\" id=\"node4\"><title>140500132559952</title>\n",
       "<polygon fill=\"none\" points=\"33.5,-657.5 33.5,-693.5 220.5,-693.5 220.5,-657.5 33.5,-657.5\" stroke=\"black\"/>\n",
       "<text font-family=\"Times,serif\" font-size=\"14.00\" text-anchor=\"middle\" x=\"127\" y=\"-671.8\">activation_3: Activation</text>\n",
       "</g>\n",
       "<!-- 140500132560232&#45;&gt;140500132559952 -->\n",
       "<g class=\"edge\" id=\"edge3\"><title>140500132560232-&gt;140500132559952</title>\n",
       "<path d=\"M127,-730.313C127,-722.289 127,-712.547 127,-703.569\" fill=\"none\" stroke=\"black\"/>\n",
       "<polygon fill=\"black\" points=\"130.5,-703.529 127,-693.529 123.5,-703.529 130.5,-703.529\" stroke=\"black\"/>\n",
       "</g>\n",
       "<!-- 140500132595080 -->\n",
       "<g class=\"node\" id=\"node5\"><title>140500132595080</title>\n",
       "<polygon fill=\"none\" points=\"0,-584.5 0,-620.5 254,-620.5 254,-584.5 0,-584.5\" stroke=\"black\"/>\n",
       "<text font-family=\"Times,serif\" font-size=\"14.00\" text-anchor=\"middle\" x=\"127\" y=\"-598.8\">max_pooling2d_3: MaxPooling2D</text>\n",
       "</g>\n",
       "<!-- 140500132559952&#45;&gt;140500132595080 -->\n",
       "<g class=\"edge\" id=\"edge4\"><title>140500132559952-&gt;140500132595080</title>\n",
       "<path d=\"M127,-657.313C127,-649.289 127,-639.547 127,-630.569\" fill=\"none\" stroke=\"black\"/>\n",
       "<polygon fill=\"black\" points=\"130.5,-630.529 127,-620.529 123.5,-630.529 130.5,-630.529\" stroke=\"black\"/>\n",
       "</g>\n",
       "<!-- 140500132594352 -->\n",
       "<g class=\"node\" id=\"node6\"><title>140500132594352</title>\n",
       "<polygon fill=\"none\" points=\"64.5,-511.5 64.5,-547.5 189.5,-547.5 189.5,-511.5 64.5,-511.5\" stroke=\"black\"/>\n",
       "<text font-family=\"Times,serif\" font-size=\"14.00\" text-anchor=\"middle\" x=\"127\" y=\"-525.8\">conv2: Conv2D</text>\n",
       "</g>\n",
       "<!-- 140500132595080&#45;&gt;140500132594352 -->\n",
       "<g class=\"edge\" id=\"edge5\"><title>140500132595080-&gt;140500132594352</title>\n",
       "<path d=\"M127,-584.313C127,-576.289 127,-566.547 127,-557.569\" fill=\"none\" stroke=\"black\"/>\n",
       "<polygon fill=\"black\" points=\"130.5,-557.529 127,-547.529 123.5,-557.529 130.5,-557.529\" stroke=\"black\"/>\n",
       "</g>\n",
       "<!-- 140500134539448 -->\n",
       "<g class=\"node\" id=\"node7\"><title>140500134539448</title>\n",
       "<polygon fill=\"none\" points=\"8,-438.5 8,-474.5 246,-474.5 246,-438.5 8,-438.5\" stroke=\"black\"/>\n",
       "<text font-family=\"Times,serif\" font-size=\"14.00\" text-anchor=\"middle\" x=\"127\" y=\"-452.8\">bn_conv2: BatchNormalization</text>\n",
       "</g>\n",
       "<!-- 140500132594352&#45;&gt;140500134539448 -->\n",
       "<g class=\"edge\" id=\"edge6\"><title>140500132594352-&gt;140500134539448</title>\n",
       "<path d=\"M127,-511.313C127,-503.289 127,-493.547 127,-484.569\" fill=\"none\" stroke=\"black\"/>\n",
       "<polygon fill=\"black\" points=\"130.5,-484.529 127,-474.529 123.5,-484.529 130.5,-484.529\" stroke=\"black\"/>\n",
       "</g>\n",
       "<!-- 140500134856632 -->\n",
       "<g class=\"node\" id=\"node8\"><title>140500134856632</title>\n",
       "<polygon fill=\"none\" points=\"33.5,-365.5 33.5,-401.5 220.5,-401.5 220.5,-365.5 33.5,-365.5\" stroke=\"black\"/>\n",
       "<text font-family=\"Times,serif\" font-size=\"14.00\" text-anchor=\"middle\" x=\"127\" y=\"-379.8\">activation_4: Activation</text>\n",
       "</g>\n",
       "<!-- 140500134539448&#45;&gt;140500134856632 -->\n",
       "<g class=\"edge\" id=\"edge7\"><title>140500134539448-&gt;140500134856632</title>\n",
       "<path d=\"M127,-438.313C127,-430.289 127,-420.547 127,-411.569\" fill=\"none\" stroke=\"black\"/>\n",
       "<polygon fill=\"black\" points=\"130.5,-411.529 127,-401.529 123.5,-411.529 130.5,-411.529\" stroke=\"black\"/>\n",
       "</g>\n",
       "<!-- 140500134857192 -->\n",
       "<g class=\"node\" id=\"node9\"><title>140500134857192</title>\n",
       "<polygon fill=\"none\" points=\"0,-292.5 0,-328.5 254,-328.5 254,-292.5 0,-292.5\" stroke=\"black\"/>\n",
       "<text font-family=\"Times,serif\" font-size=\"14.00\" text-anchor=\"middle\" x=\"127\" y=\"-306.8\">max_pooling2d_4: MaxPooling2D</text>\n",
       "</g>\n",
       "<!-- 140500134856632&#45;&gt;140500134857192 -->\n",
       "<g class=\"edge\" id=\"edge8\"><title>140500134856632-&gt;140500134857192</title>\n",
       "<path d=\"M127,-365.313C127,-357.289 127,-347.547 127,-338.569\" fill=\"none\" stroke=\"black\"/>\n",
       "<polygon fill=\"black\" points=\"130.5,-338.529 127,-328.529 123.5,-338.529 130.5,-338.529\" stroke=\"black\"/>\n",
       "</g>\n",
       "<!-- 140500134855456 -->\n",
       "<g class=\"node\" id=\"node10\"><title>140500134855456</title>\n",
       "<polygon fill=\"none\" points=\"57,-219.5 57,-255.5 197,-255.5 197,-219.5 57,-219.5\" stroke=\"black\"/>\n",
       "<text font-family=\"Times,serif\" font-size=\"14.00\" text-anchor=\"middle\" x=\"127\" y=\"-233.8\">flatten_2: Flatten</text>\n",
       "</g>\n",
       "<!-- 140500134857192&#45;&gt;140500134855456 -->\n",
       "<g class=\"edge\" id=\"edge9\"><title>140500134857192-&gt;140500134855456</title>\n",
       "<path d=\"M127,-292.313C127,-284.289 127,-274.547 127,-265.569\" fill=\"none\" stroke=\"black\"/>\n",
       "<polygon fill=\"black\" points=\"130.5,-265.529 127,-255.529 123.5,-265.529 130.5,-265.529\" stroke=\"black\"/>\n",
       "</g>\n",
       "<!-- 140500134854952 -->\n",
       "<g class=\"node\" id=\"node11\"><title>140500134854952</title>\n",
       "<polygon fill=\"none\" points=\"81,-146.5 81,-182.5 173,-182.5 173,-146.5 81,-146.5\" stroke=\"black\"/>\n",
       "<text font-family=\"Times,serif\" font-size=\"14.00\" text-anchor=\"middle\" x=\"127\" y=\"-160.8\">fc1: Dense</text>\n",
       "</g>\n",
       "<!-- 140500134855456&#45;&gt;140500134854952 -->\n",
       "<g class=\"edge\" id=\"edge10\"><title>140500134855456-&gt;140500134854952</title>\n",
       "<path d=\"M127,-219.313C127,-211.289 127,-201.547 127,-192.569\" fill=\"none\" stroke=\"black\"/>\n",
       "<polygon fill=\"black\" points=\"130.5,-192.529 127,-182.529 123.5,-192.529 130.5,-192.529\" stroke=\"black\"/>\n",
       "</g>\n",
       "<!-- 140500134855008 -->\n",
       "<g class=\"node\" id=\"node12\"><title>140500134855008</title>\n",
       "<polygon fill=\"none\" points=\"81,-73.5 81,-109.5 173,-109.5 173,-73.5 81,-73.5\" stroke=\"black\"/>\n",
       "<text font-family=\"Times,serif\" font-size=\"14.00\" text-anchor=\"middle\" x=\"127\" y=\"-87.8\">fc2: Dense</text>\n",
       "</g>\n",
       "<!-- 140500134854952&#45;&gt;140500134855008 -->\n",
       "<g class=\"edge\" id=\"edge11\"><title>140500134854952-&gt;140500134855008</title>\n",
       "<path d=\"M127,-146.313C127,-138.289 127,-128.547 127,-119.569\" fill=\"none\" stroke=\"black\"/>\n",
       "<polygon fill=\"black\" points=\"130.5,-119.529 127,-109.529 123.5,-119.529 130.5,-119.529\" stroke=\"black\"/>\n",
       "</g>\n",
       "<!-- 140500134857808 -->\n",
       "<g class=\"node\" id=\"node13\"><title>140500134857808</title>\n",
       "<polygon fill=\"none\" points=\"81,-0.5 81,-36.5 173,-36.5 173,-0.5 81,-0.5\" stroke=\"black\"/>\n",
       "<text font-family=\"Times,serif\" font-size=\"14.00\" text-anchor=\"middle\" x=\"127\" y=\"-14.8\">fc3: Dense</text>\n",
       "</g>\n",
       "<!-- 140500134855008&#45;&gt;140500134857808 -->\n",
       "<g class=\"edge\" id=\"edge12\"><title>140500134855008-&gt;140500134857808</title>\n",
       "<path d=\"M127,-73.3129C127,-65.2895 127,-55.5475 127,-46.5691\" fill=\"none\" stroke=\"black\"/>\n",
       "<polygon fill=\"black\" points=\"130.5,-46.5288 127,-36.5288 123.5,-46.5289 130.5,-46.5288\" stroke=\"black\"/>\n",
       "</g>\n",
       "</g>\n",
       "</svg>"
      ],
      "text/plain": [
       "<IPython.core.display.SVG object>"
      ]
     },
     "execution_count": 24,
     "metadata": {},
     "output_type": "execute_result"
    }
   ],
   "source": [
    "plot_model(model, to_file='model.png')\n",
    "SVG(model_to_dot(model).create(prog='dot', format='svg'))"
   ]
  },
  {
   "cell_type": "code",
   "execution_count": null,
   "metadata": {},
   "outputs": [],
   "source": []
  }
 ],
 "metadata": {
  "anaconda-cloud": {},
  "kernelspec": {
   "display_name": "Python 3",
   "language": "python",
   "name": "python3"
  },
  "language_info": {
   "codemirror_mode": {
    "name": "ipython",
    "version": 3
   },
   "file_extension": ".py",
   "mimetype": "text/x-python",
   "name": "python",
   "nbconvert_exporter": "python",
   "pygments_lexer": "ipython3",
   "version": "3.6.3"
  }
 },
 "nbformat": 4,
 "nbformat_minor": 1
}
